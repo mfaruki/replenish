{
 "cells": [
  {
   "cell_type": "code",
   "execution_count": 123,
   "metadata": {},
   "outputs": [],
   "source": [
    "import requests\n",
    "from bs4 import BeautifulSoup"
   ]
  },
  {
   "cell_type": "code",
   "execution_count": 124,
   "metadata": {},
   "outputs": [
    {
     "name": "stdout",
     "output_type": "stream",
     "text": [
      "None\n"
     ]
    }
   ],
   "source": [
    "# What does our URL look like?\n",
    "url = \"https://www.bbcgoodfood.com/search?q=\"\n",
    "# Get the response\n",
    "response = requests.get(url)\n",
    "# Turn it into Soup\n",
    "soup = BeautifulSoup(response.text, \"html.parser\")\n",
    "# Find the right tag\n",
    "life_info = soup.find(\"div\", class_= \"card__section card__content\").find(\"a\",datetime='PT0H5M')\n",
    "\n",
    "print(life_info)"
   ]
  },
  {
   "cell_type": "code",
   "execution_count": 125,
   "metadata": {},
   "outputs": [
    {
     "name": "stdout",
     "output_type": "stream",
     "text": [
      "Best Yorkshire puddings\n"
     ]
    }
   ],
   "source": [
    "# What does our URL look like?\n",
    "url = \"https://www.bbcgoodfood.com/recipes/best-yorkshire-puddings\"\n",
    "# Get the response\n",
    "response = requests.get(url)\n",
    "# Turn it into Soup\n",
    "soup = BeautifulSoup(response.text, \"html.parser\")\n",
    "# Find the right tag\n",
    "recipe_title = soup.find(\n",
    "    \"div\", class_= \"headline post-header__title post-header__title--masthead-layout\").find(\n",
    "        \"h1\",class_='heading-1').string\n",
    "    \n",
    "print(recipe_title)"
   ]
  },
  {
   "cell_type": "code",
   "execution_count": 126,
   "metadata": {},
   "outputs": [
    {
     "data": {
      "text/plain": [
       "4.8"
      ]
     },
     "execution_count": 126,
     "metadata": {},
     "output_type": "execute_result"
    }
   ],
   "source": [
    "# Find the right tag\n",
    "star_rating = soup.find(\n",
    "    \"div\", class_= \"rating__values\").find(\n",
    "        \"span\",class_='sr-only').string\n",
    "\n",
    "star_rating_float = float(star_rating.strip('A star rating of ').strip(' out of 5.'))\n",
    "star_rating_float"
   ]
  },
  {
   "cell_type": "code",
   "execution_count": 127,
   "metadata": {},
   "outputs": [],
   "source": [
    "# Find the right tag\n",
    "num_reviews = soup.find(\n",
    "    \"div\", class_= \"rating__values\").find(\n",
    "        \"span\",class_='rating__count-text body-copy-small').string\n",
    "\n",
    "num_reviews_float = float(num_reviews.strip(' ratings'))"
   ]
  },
  {
   "cell_type": "code",
   "execution_count": 128,
   "metadata": {},
   "outputs": [
    {
     "data": {
      "text/plain": [
       "'Easy'"
      ]
     },
     "execution_count": 128,
     "metadata": {},
     "output_type": "execute_result"
    }
   ],
   "source": [
    "# Find the right tag\n",
    "difficulty = soup.find(\n",
    "    \"div\", class_= \"icon-with-text post-header__skill-level body-copy-small body-copy-bold icon-with-text--aligned\").find(\n",
    "    \"div\", class_= \"icon-with-text__children\").string\n",
    "difficulty"
   ]
  },
  {
   "cell_type": "code",
   "execution_count": 129,
   "metadata": {},
   "outputs": [],
   "source": [
    "tagline = soup.find(\n",
    "    \"div\", class_= \"editor-content mt-sm pr-xxs hidden-print\").find(\"p\").string\n",
    "    "
   ]
  },
  {
   "cell_type": "code",
   "execution_count": 132,
   "metadata": {},
   "outputs": [
    {
     "data": {
      "text/plain": [
       "'Makes 8 large puds or 24 small'"
      ]
     },
     "execution_count": 132,
     "metadata": {},
     "output_type": "execute_result"
    }
   ],
   "source": [
    "# Find the right tag\n",
    "servings = soup.find(\n",
    "    \"div\", class_= \"icon-with-text post-header__servings body-copy-small body-copy-bold icon-with-text--aligned\").find(\n",
    "    \"div\", class_= \"icon-with-text__children\").string\n",
    "#servings_int = int(servings.strip('Serves '))\n",
    "#servings_int\n",
    "servings"
   ]
  },
  {
   "cell_type": "code",
   "execution_count": 133,
   "metadata": {},
   "outputs": [
    {
     "data": {
      "text/plain": [
       "{'kcal': 199.0,\n",
       " 'fat': 13.0,\n",
       " 'saturates': 2.0,\n",
       " 'carbs': 15.0,\n",
       " 'sugars': 1.0,\n",
       " 'fibre': 0.0,\n",
       " 'protein': 6.0,\n",
       " 'salt': 0.12}"
      ]
     },
     "execution_count": 133,
     "metadata": {},
     "output_type": "execute_result"
    }
   ],
   "source": [
    "# Find the right tag\n",
    "\n",
    "nutrition_per_serving = soup.find(\n",
    "    \"table\", class_= \"key-value-blocks hidden-print mt-xxs\")\n",
    "\n",
    "nutrition_per_serving_all = nutrition_per_serving.find_all(\n",
    "    \"tbody\", class_= \"key-value-blocks__batch body-copy-extra-small\")\n",
    "\n",
    "nutrition_per_serving_category = []\n",
    "for table in nutrition_per_serving_all:\n",
    "    nutrition_per_serving_category.append(table.find_all(\"tr\", class_= \"key-value-blocks__item\"))\n",
    "\n",
    "nutrition_dict = {}\n",
    "for i in range(2):\n",
    "    for j in range(4):\n",
    "        nutrition_type = nutrition_per_serving_category[i][j].find(\"td\", class_= \"key-value-blocks__key\").string\n",
    "        nutrition_value = nutrition_per_serving_category[i][j].find(\"td\", class_= \"key-value-blocks__value\").text.strip('g')\n",
    "        nutrition_dict[nutrition_type] = float(nutrition_value)\n",
    "        \n",
    "nutrition_dict"
   ]
  },
  {
   "cell_type": "code",
   "execution_count": 134,
   "metadata": {},
   "outputs": [
    {
     "data": {
      "text/plain": [
       "'https://images.immediate.co.uk/production/volatile/sites/30/2020/08/recipe-image-legacy-id-901451_9-687c42b.jpg?quality=90&resize=440,400'"
      ]
     },
     "execution_count": 134,
     "metadata": {},
     "output_type": "execute_result"
    }
   ],
   "source": [
    "image = soup.find(\n",
    "    \"div\", class_= \"image__container\").find(\n",
    "        \"picture\", class_= \"image__picture\").find(\n",
    "            \"img\", class_= \"image__img\").get('src')\n",
    "image"
   ]
  },
  {
   "cell_type": "code",
   "execution_count": null,
   "metadata": {},
   "outputs": [],
   "source": []
  },
  {
   "cell_type": "code",
   "execution_count": null,
   "metadata": {},
   "outputs": [],
   "source": []
  }
 ],
 "metadata": {
  "kernelspec": {
   "display_name": "Python 3",
   "language": "python",
   "name": "python3"
  },
  "language_info": {
   "codemirror_mode": {
    "name": "ipython",
    "version": 3
   },
   "file_extension": ".py",
   "mimetype": "text/x-python",
   "name": "python",
   "nbconvert_exporter": "python",
   "pygments_lexer": "ipython3",
   "version": "3.10.6"
  },
  "orig_nbformat": 4
 },
 "nbformat": 4,
 "nbformat_minor": 2
}
