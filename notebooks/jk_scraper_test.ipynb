{
 "cells": [
  {
   "cell_type": "code",
   "execution_count": 2,
   "metadata": {},
   "outputs": [],
   "source": [
    "import numpy as np\n",
    "import requests\n",
    "from bs4 import BeautifulSoup"
   ]
  },
  {
   "cell_type": "code",
   "execution_count": 3,
   "metadata": {},
   "outputs": [],
   "source": [
    "url = 'https://www.bbcgoodfood.com/recipes/crispy-asian-salmon-stir-fried-noodles-pak-choi-sugar-snap-peas'\n",
    "response = requests.get(url)\n",
    "soup = BeautifulSoup(response.content, \"html.parser\")"
   ]
  },
  {
   "cell_type": "code",
   "execution_count": 27,
   "metadata": {},
   "outputs": [
    {
     "name": "stdout",
     "output_type": "stream",
     "text": [
      "['Pack your stir-fry with vegetables such as pak choi and sugar snap peas, then top with soy-marinated salmon. This recipe makes enough for lunch the next day', 'Make the marinade by mixing together all the ingredients. Place the salmon fillets in a small bowl and spoon over the marinade, turning the fish so that it’s nicely coated. Cover with cling film and leave to sit for 10 mins (or longer if you have time).', 'Meanwhile, cook the noodles following pack instructions, then drain and sit them in a bowl of cold water.', \"Heat a non-stick frying pan. Add the salmon fillets, skin-side down, and leave for 3 mins. When the fish is slightly crispy, flip over and cook for a further 3 mins on the other side. Just before you remove the fish from the pan, add any remaining marinade and let it sizzle for 10 secs. Place 2 of the fillets, skin-side up, with their juices on a plate and cover with foil to keep warm. Put the other 2 fillets on another plate if using for Flaked salmon salad (see 'goes well with'), cover with foil, leave to cool, then chill.\", 'In a frying pan or wok, heat the rapeseed and sesame oils over a high heat. Add the spring onion, garlic, chilli and ginger, and stir constantly for about 1 min. Add the sugar snap peas, pak choi and pepper, and stir for another 1-2 mins, then add the cooked noodles. Toss well, then add the soy sauce, fish sauce and lime juice, and mix until well combined and the pan is sizzling.', 'Remove from the heat and divide between 2 bowls. Top each with a salmon fillet and drizzle over any juices. Sprinkle with coriander and serve.', 'Subscribe and get a twin blade hand mixer worth £51 RRP']\n"
     ]
    }
   ],
   "source": [
    "# <a class=\"link d-block\" href=\"/recipes/crispy-asian-salmon-stir-fried-noodles-pak-choi-sugar-snap-peas\">\n",
    "\n",
    "recipe = []\n",
    "for step in soup.find_all(\"div\", class_=\"editor-content\"):\n",
    "    step_paragraph = step.find(\"p\")\n",
    "    if step_paragraph:  # Ceck if a <p> tag is found\n",
    "        recipe.append(step_paragraph.text,)  # Use .text to get the text content\n",
    "    \n",
    "print(recipe)"
   ]
  },
  {
   "cell_type": "code",
   "execution_count": 12,
   "metadata": {},
   "outputs": [
    {
     "name": "stdout",
     "output_type": "stream",
     "text": [
      "['salmon fillets, reduced salt tamari or soy sauce, ginger, garlic clove, lemon or lime juice, rapeseed oil, spring onion, garlic clove, red chilli, ginger, pak choi, large red pepper, tamari or soy sauce, Thai fish sauce, lime, ']\n"
     ]
    }
   ],
   "source": [
    "ingredient_list = []\n",
    "for ingredient_group in soup.find_all(\"section\", class_=\"recipe__ingredients col-12 mt-md col-lg-6\"):\n",
    "    ingredients = ingredient_group.find_all(\"a\")\n",
    "    \n",
    "    ingredient_text = \"\"\n",
    "    for ingredient in ingredients:\n",
    "        ingredient_text += ingredient.get_text().strip(',') + ', '\n",
    "    \n",
    "    ingredient_list.append(ingredient_text)\n",
    "                \n",
    "print(ingredient_list)"
   ]
  },
  {
   "cell_type": "code",
   "execution_count": 64,
   "metadata": {},
   "outputs": [
    {
     "name": "stdout",
     "output_type": "stream",
     "text": [
      "[\"2 x 100g salmon fillets (plus 2 more 100g salmon fillets if cooking for Flaked salmon salad lunch - see 'goes well with') 2 tsp reduced salt tamari or soy sauce 2cm piece ginger, peeled and finely chopped or grated 1 garlic clove, finely chopped 2 tbsp lemon or lime juice 1 tsp sesame oil 85g vermicelli rice noodle 2 tsp rapeseed oil 1 tsp sesame oil 1 spring onion, trimmed and thinly sliced 1 garlic clove, finely chopped ½ red chilli, deseeded and finely chopped 2cm piece ginger, peeled and finely chopped 100g sugar snap pea 100g pak choi (or spinach) 1 large red pepper, sliced 1 tsp tamari or soy sauce 1 tsp Thai fish sauce juice ½ lime 1 tbsp finely chopped coriander \"]\n"
     ]
    }
   ],
   "source": [
    "ingredient_list = []\n",
    "for ingredient_group in soup.find_all(\"section\", class_=\"recipe__ingredients col-12 mt-md col-lg-6\"):\n",
    "    ingredients = ingredient_group.find_all(\"li\")\n",
    "    \n",
    "    ingredient_text = \"\"\n",
    "    for ingredient in ingredients:\n",
    "        ingredient_text += ingredient.get_text()\n",
    "        \n",
    "        # Add a space after the ingredient if it doesn't end with a space or comma\n",
    "        if not ingredient_text.endswith(\" \") and not ingredient_text.endswith(\",\"):\n",
    "            ingredient_text += \" \"\n",
    "            \n",
    "    ingredient_list.append(ingredient_text)\n",
    "                \n",
    "print(ingredient_list)"
   ]
  },
  {
   "cell_type": "code",
   "execution_count": null,
   "metadata": {},
   "outputs": [],
   "source": []
  }
 ],
 "metadata": {
  "kernelspec": {
   "display_name": "lewagon",
   "language": "python",
   "name": "python3"
  },
  "language_info": {
   "codemirror_mode": {
    "name": "ipython",
    "version": 3
   },
   "file_extension": ".py",
   "mimetype": "text/x-python",
   "name": "python",
   "nbconvert_exporter": "python",
   "pygments_lexer": "ipython3",
   "version": "3.10.6"
  },
  "orig_nbformat": 4
 },
 "nbformat": 4,
 "nbformat_minor": 2
}
