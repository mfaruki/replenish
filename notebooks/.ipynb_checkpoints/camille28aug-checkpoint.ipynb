{
 "cells": [
  {
   "cell_type": "code",
   "execution_count": 18,
   "metadata": {},
   "outputs": [
    {
     "name": "stdout",
     "output_type": "stream",
     "text": [
      "The autoreload extension is already loaded. To reload it, use:\n",
      "  %reload_ext autoreload\n"
     ]
    }
   ],
   "source": [
    "import requests\n",
    "from bs4 import BeautifulSoup\n",
    "import re\n",
    "%load_ext autoreload\n"
   ]
  },
  {
   "cell_type": "code",
   "execution_count": 19,
   "metadata": {},
   "outputs": [
    {
     "name": "stdout",
     "output_type": "stream",
     "text": [
      "['5', '15']\n"
     ]
    }
   ],
   "source": [
    "\n",
    "# What does our URL look like?\n",
    "url = \"https://www.bbcgoodfood.com/recipes/feta-peach-couscous\"\n",
    "# Get the response\n",
    "response = requests.get(url)\n",
    "# Turn it into Soup\n",
    "soup = BeautifulSoup(response.text, \"html.parser\")\n",
    "# Find the right tag\n",
    "\n",
    "prep_time = soup.find(\"div\", class_= \"icon-with-text__children\").find_all('time')\n",
    "times=[prep_time[0].text.strip(' mins'), prep_time[1].text.strip(' mins')]\n",
    "print(times)"
   ]
  },
  {
   "cell_type": "code",
   "execution_count": 20,
   "metadata": {},
   "outputs": [],
   "source": [
    "\n",
    "\n",
    "# URL of the search results page\n",
    "search_url = \"https://www.bbcgoodfood.com/search?q=\"\n",
    "\n",
    "# Send an HTTP GET request\n",
    "response = requests.get(search_url)\n",
    "soup = BeautifulSoup(response.content, \"html.parser\")\n",
    "\n",
    "# Extract recipe links\n",
    "recipe_links = []\n",
    "for link in soup.find_all(\"a\", class_=\"link d-block\"):\n",
    "    recipe_links.append(f'https://www.bbcgoodfood.com/recipes{link[\"href\"]}')"
   ]
  },
  {
   "cell_type": "code",
   "execution_count": 21,
   "metadata": {},
   "outputs": [
    {
     "data": {
      "text/plain": [
       "['https://www.bbcgoodfood.com/recipes/recipes/lemon-drizzle-cake',\n",
       " 'https://www.bbcgoodfood.com/recipes/recipes/chicken-chorizo-jambalaya',\n",
       " 'https://www.bbcgoodfood.com/recipes/recipes/best-ever-chocolate-brownies-recipe',\n",
       " 'https://www.bbcgoodfood.com/recipes/recipes/creamy-courgette-lasagne',\n",
       " 'https://www.bbcgoodfood.com/recipes/recipes/chilli-con-carne-recipe',\n",
       " 'https://www.bbcgoodfood.com/recipes/recipes/naughty-chocolate-fudge-cake',\n",
       " 'https://www.bbcgoodfood.com/recipes/recipes/classic-victoria-sandwich-recipe',\n",
       " 'https://www.bbcgoodfood.com/recipes/recipes/chicken-noodle-soup',\n",
       " 'https://www.bbcgoodfood.com/recipes/recipes/satay-sweet-potato-curry',\n",
       " 'https://www.bbcgoodfood.com/recipes/recipes/chicken-pasta-bake',\n",
       " 'https://www.bbcgoodfood.com/recipes/recipes/best-spaghetti-bolognese-recipe',\n",
       " 'https://www.bbcgoodfood.com/recipes/recipes/brilliant-banana-loaf',\n",
       " 'https://www.bbcgoodfood.com/recipes/recipes/chorizo-mozzarella-gnocchi-bake',\n",
       " 'https://www.bbcgoodfood.com/recipes/recipes/carrot-cake',\n",
       " 'https://www.bbcgoodfood.com/recipes/recipes/classic-scones-jam-clotted-cream',\n",
       " 'https://www.bbcgoodfood.com/recipes/recipes/burnt-aubergine-veggie-chilli',\n",
       " 'https://www.bbcgoodfood.com/recipes/recipes/ultimate-chocolate-cake',\n",
       " 'https://www.bbcgoodfood.com/recipes/recipes/spinach-sweet-potato-lentil-dhal',\n",
       " 'https://www.bbcgoodfood.com/recipes/recipes/double-bean-roasted-pepper-chilli',\n",
       " 'https://www.bbcgoodfood.com/recipes/recipes/easiest-ever-paella',\n",
       " 'https://www.bbcgoodfood.com/recipes/recipes/chicken-arrabbiata-stew-parmesan-dumplings',\n",
       " 'https://www.bbcgoodfood.com/recipes/recipes/mushroom-risotto',\n",
       " 'https://www.bbcgoodfood.com/recipes/recipes/yummy-scrummy-carrot-cake-recipe',\n",
       " 'https://www.bbcgoodfood.com/recipes/recipes/chocolate-fudge-crinkle-biscuits',\n",
       " 'https://www.bbcgoodfood.com/recipes/recipes/vintage-chocolate-chip-cookies',\n",
       " 'https://www.bbcgoodfood.com/recipes/recipes/spiced-carrot-lentil-soup',\n",
       " 'https://www.bbcgoodfood.com/recipes/recipes/slow-cooker-beef-stew',\n",
       " 'https://www.bbcgoodfood.com/recipes/recipes/best-yorkshire-puddings',\n",
       " 'https://www.bbcgoodfood.com/recipes/recipes/chicken-satay-salad',\n",
       " 'https://www.bbcgoodfood.com/recipes/recipes/classic-cheese-scones',\n",
       " 'https://www.bbcgoodfood.com/recipeshttps://www.buysubscriptions.com/print/bbc-good-food-magazine-subscription?promo=GFBS923&utm_medium=brandsite&utm_source=bbcgoodfood.com&utm_campaign=aug-twin_blade-GFBS923&utm_content=footer-widget&style=brand',\n",
       " 'https://www.bbcgoodfood.com/recipeshttps://immediate.onelink.me/OQap?af_web_dp=https%3A%2F%2Fwww.bbcgoodfood.com%2Fget-bbc-good-food-app&af_xp=custom&pid=website&c=footer_widget&is_retargeting=true',\n",
       " 'https://www.bbcgoodfood.com/recipeshttps://www.bbcgoodfood.com/howto/guide/good-food-wine-club']"
      ]
     },
     "execution_count": 21,
     "metadata": {},
     "output_type": "execute_result"
    }
   ],
   "source": [
    "recipe_links\n",
    "\n"
   ]
  },
  {
   "cell_type": "code",
   "execution_count": 22,
   "metadata": {},
   "outputs": [],
   "source": [
    "cuisines = ['italian','indian','asian']\n",
    "dietary= ['vegetarian','vegan', 'gluten-free','nut-free']\n",
    "\n",
    "base_url= 'https://www.bbcgoodfood.com/search?tab=recipe'\n",
    "\n",
    "def preference_based_search(preference=None):\n",
    "    if preference in cuisines:\n",
    "        url= f'{base_url}&cuisines={preference}'\n",
    "    elif preference in dietary:\n",
    "        url= f'{base_url}&diet={preference}'\n",
    "    else:\n",
    "        url=base_url\n",
    "    return url"
   ]
  },
  {
   "cell_type": "code",
   "execution_count": 23,
   "metadata": {},
   "outputs": [
    {
     "name": "stdout",
     "output_type": "stream",
     "text": [
      "https://www.bbcgoodfood.com/search?tab=recipe&cuisines=italian\n"
     ]
    }
   ],
   "source": [
    "print(preference_based_search('italian'))"
   ]
  },
  {
   "cell_type": "code",
   "execution_count": 24,
   "metadata": {},
   "outputs": [],
   "source": [
    "def category_specific_links(preference):\n",
    "    search_url = preference_based_search(preference)\n",
    "    response = requests.get(search_url)\n",
    "    soup = BeautifulSoup(response.content, \"html.parser\")\n",
    "    recipe_links = []\n",
    "    for link in soup.find_all(\"a\", class_=\"link d-block\"):\n",
    "        recipe_links.append(f'https://www.bbcgoodfood.com/recipes{link[\"href\"]}')\n",
    "    return recipe_links"
   ]
  },
  {
   "cell_type": "code",
   "execution_count": 25,
   "metadata": {},
   "outputs": [],
   "source": [
    "import pandas as pd\n",
    "\n",
    "list1 = [1,2,3,4,5]\n",
    "list2 = [4,5,6,7,8]\n",
    "dat={'d':list1, 'f':list2}\n",
    "\n",
    "df1= pd.DataFrame(dat)\n",
    "\n",
    "list3 = [3,42,53,4,5]\n",
    "list4 = [4,55,66,7,8]\n",
    "datr={'d':list3, 'f':list4}\n",
    "\n"
   ]
  },
  {
   "cell_type": "code",
   "execution_count": 34,
   "metadata": {},
   "outputs": [],
   "source": [
    "%reload_ext autoreload\n",
    "from replenish.get_data.bbc_scrape import load_data\n",
    "\n"
   ]
  },
  {
   "cell_type": "code",
   "execution_count": 35,
   "metadata": {},
   "outputs": [
    {
     "name": "stdout",
     "output_type": "stream",
     "text": [
      "Unexpected exception formatting exception. Falling back to standard exception\n"
     ]
    },
    {
     "name": "stderr",
     "output_type": "stream",
     "text": [
      "Traceback (most recent call last):\n",
      "  File \"/Users/camillemolen/.pyenv/versions/3.10.6/envs/replenish/lib/python3.10/site-packages/IPython/core/interactiveshell.py\", line 3508, in run_code\n",
      "    exec(code_obj, self.user_global_ns, self.user_ns)\n",
      "  File \"/var/folders/rp/7ftqrxx9701fy2jzfscnlwyw0000gn/T/ipykernel_31502/1389887512.py\", line 1, in <module>\n",
      "    df = load_data()\n",
      "  File \"/Users/camillemolen/code/mfaruki/replenish/replenish/get_data/bbc_scrape.py\", line 125, in load_data\n",
      "    soup = BeautifulSoup(response.content, \"html.parser\")\n",
      "  File \"/Users/camillemolen/code/mfaruki/replenish/replenish/get_data/bbc_scrape.py\", line 79, in category_bbc_data\n",
      "    #servings\n",
      "ValueError: invalid literal for int() with base 10: 'Cuts into 10 slic'\n",
      "\n",
      "During handling of the above exception, another exception occurred:\n",
      "\n",
      "Traceback (most recent call last):\n",
      "  File \"/Users/camillemolen/.pyenv/versions/3.10.6/envs/replenish/lib/python3.10/site-packages/IPython/core/interactiveshell.py\", line 2105, in showtraceback\n",
      "    stb = self.InteractiveTB.structured_traceback(\n",
      "  File \"/Users/camillemolen/.pyenv/versions/3.10.6/envs/replenish/lib/python3.10/site-packages/IPython/core/ultratb.py\", line 1428, in structured_traceback\n",
      "    return FormattedTB.structured_traceback(\n",
      "  File \"/Users/camillemolen/.pyenv/versions/3.10.6/envs/replenish/lib/python3.10/site-packages/IPython/core/ultratb.py\", line 1319, in structured_traceback\n",
      "    return VerboseTB.structured_traceback(\n",
      "  File \"/Users/camillemolen/.pyenv/versions/3.10.6/envs/replenish/lib/python3.10/site-packages/IPython/core/ultratb.py\", line 1172, in structured_traceback\n",
      "    formatted_exception = self.format_exception_as_a_whole(etype, evalue, etb, number_of_lines_of_context,\n",
      "  File \"/Users/camillemolen/.pyenv/versions/3.10.6/envs/replenish/lib/python3.10/site-packages/IPython/core/ultratb.py\", line 1087, in format_exception_as_a_whole\n",
      "    frames.append(self.format_record(record))\n",
      "  File \"/Users/camillemolen/.pyenv/versions/3.10.6/envs/replenish/lib/python3.10/site-packages/IPython/core/ultratb.py\", line 969, in format_record\n",
      "    frame_info.lines, Colors, self.has_colors, lvals\n",
      "  File \"/Users/camillemolen/.pyenv/versions/3.10.6/envs/replenish/lib/python3.10/site-packages/IPython/core/ultratb.py\", line 792, in lines\n",
      "    return self._sd.lines\n",
      "  File \"/Users/camillemolen/.pyenv/versions/3.10.6/envs/replenish/lib/python3.10/site-packages/stack_data/utils.py\", line 144, in cached_property_wrapper\n",
      "    value = obj.__dict__[self.func.__name__] = self.func(obj)\n",
      "  File \"/Users/camillemolen/.pyenv/versions/3.10.6/envs/replenish/lib/python3.10/site-packages/stack_data/core.py\", line 734, in lines\n",
      "    pieces = self.included_pieces\n",
      "  File \"/Users/camillemolen/.pyenv/versions/3.10.6/envs/replenish/lib/python3.10/site-packages/stack_data/utils.py\", line 144, in cached_property_wrapper\n",
      "    value = obj.__dict__[self.func.__name__] = self.func(obj)\n",
      "  File \"/Users/camillemolen/.pyenv/versions/3.10.6/envs/replenish/lib/python3.10/site-packages/stack_data/core.py\", line 681, in included_pieces\n",
      "    pos = scope_pieces.index(self.executing_piece)\n",
      "  File \"/Users/camillemolen/.pyenv/versions/3.10.6/envs/replenish/lib/python3.10/site-packages/stack_data/utils.py\", line 144, in cached_property_wrapper\n",
      "    value = obj.__dict__[self.func.__name__] = self.func(obj)\n",
      "  File \"/Users/camillemolen/.pyenv/versions/3.10.6/envs/replenish/lib/python3.10/site-packages/stack_data/core.py\", line 660, in executing_piece\n",
      "    return only(\n",
      "  File \"/Users/camillemolen/.pyenv/versions/3.10.6/envs/replenish/lib/python3.10/site-packages/executing/executing.py\", line 190, in only\n",
      "    raise NotOneValueFound('Expected one value, found 0')\n",
      "executing.executing.NotOneValueFound: Expected one value, found 0\n"
     ]
    }
   ],
   "source": [
    "df = load_data()"
   ]
  },
  {
   "cell_type": "code",
   "execution_count": 28,
   "metadata": {},
   "outputs": [],
   "source": [
    "url = 'https://www.bbcgoodfood.com/recipes/crispy-asian-salmon-stir-fried-noodles-pak-choi-sugar-snap-peas'\n",
    "response = requests.get(url)\n",
    "soup = BeautifulSoup(response.content, 'html.parser')"
   ]
  },
  {
   "cell_type": "code",
   "execution_count": 29,
   "metadata": {},
   "outputs": [
    {
     "name": "stdout",
     "output_type": "stream",
     "text": [
      "[\"2 x 100gsalmon fillets(plus 2 more 100g salmon fillets if cooking for Flaked salmon salad lunch - see 'goes well with'), 2 tspreduced salt tamari or soy sauce, 2cm pieceginger,peeled and finely chopped or grated, 1garlic clove,finely chopped, 2 tbsplemon or lime juice, 1 tspsesame oil, 85gvermicelli rice noodle, 2 tsprapeseed oil, 1 tspsesame oil, 1spring onion,trimmed and thinly sliced, 1garlic clove,finely chopped, ½red chilli,deseeded and finely chopped, 2cm pieceginger,peeled and finely chopped, 100gsugar snap pea, 100gpak choi(or spinach), 1large red pepper,sliced, 1 tsptamari or soy sauce, 1 tspThai fish sauce, juice ½lime, 1 tbspfinely chopped coriander, \"]\n"
     ]
    }
   ],
   "source": [
    "\n",
    "ingredient_list = []\n",
    "for ingredient_group in soup.find_all('section', class_='recipe__ingredients col-12 mt-md col-lg-6'):\n",
    "    ingredients = ingredient_group.find_all('li')\n",
    "    ingredient_text = ''\n",
    "    for ingredient in ingredients:\n",
    "        ingredient_text += ingredient.get_text(strip=True) + ', '\n",
    "    ingredient_list.append(ingredient_text)\n",
    "print(ingredient_list)"
   ]
  },
  {
   "cell_type": "code",
   "execution_count": null,
   "metadata": {},
   "outputs": [],
   "source": []
  }
 ],
 "metadata": {
  "kernelspec": {
   "display_name": "replenish",
   "language": "python",
   "name": "python3"
  },
  "language_info": {
   "codemirror_mode": {
    "name": "ipython",
    "version": 3
   },
   "file_extension": ".py",
   "mimetype": "text/x-python",
   "name": "python",
   "nbconvert_exporter": "python",
   "pygments_lexer": "ipython3",
   "version": "3.10.6"
  },
  "orig_nbformat": 4
 },
 "nbformat": 4,
 "nbformat_minor": 2
}
