{
 "cells": [
  {
   "cell_type": "code",
   "execution_count": 31,
   "id": "0651d18a-fbc0-48a9-8be2-932144adb0bb",
   "metadata": {},
   "outputs": [],
   "source": [
    "import pandas as pd\n",
    "from sklearn.feature_extraction.text import TfidfVectorizer, CountVectorizer\n",
    "from sklearn.preprocessing import StandardScaler\n",
    "from sklearn.cluster import KMeans\n",
    "from sklearn.decomposition import PCA\n",
    "import string\n",
    "\n",
    "import os"
   ]
  },
  {
   "cell_type": "code",
   "execution_count": null,
   "id": "edcfa13a-479e-4acf-bd04-d36ead764d03",
   "metadata": {
    "scrolled": true
   },
   "outputs": [],
   "source": [
    "pip install nltk"
   ]
  },
  {
   "cell_type": "code",
   "execution_count": 32,
   "id": "ea05469e-c9a6-4d32-9159-036cd4dd1a02",
   "metadata": {},
   "outputs": [],
   "source": [
    "from nltk.corpus import stopwords \n",
    "from nltk import word_tokenize\n",
    "from nltk.stem import WordNetLemmatizer\n"
   ]
  },
  {
   "cell_type": "code",
   "execution_count": null,
   "id": "2220e9fd-7ec5-4976-a16b-4291af8ecdf0",
   "metadata": {},
   "outputs": [],
   "source": [
    "os.getcwd()"
   ]
  },
  {
   "cell_type": "code",
   "execution_count": 3,
   "id": "cffc63f9-8776-441f-8f2c-9fae97adc4d8",
   "metadata": {},
   "outputs": [],
   "source": [
    "path = os.path.join(os.path.dirname(os.getcwd()),'raw_data')"
   ]
  },
  {
   "cell_type": "code",
   "execution_count": 4,
   "id": "2d5bf77e-ca1f-45e0-bbdb-f991ba357f12",
   "metadata": {},
   "outputs": [
    {
     "name": "stdout",
     "output_type": "stream",
     "text": [
      "/Users/camillemolen/code/mfaruki/replenish/raw_data\n"
     ]
    }
   ],
   "source": [
    "print(path)"
   ]
  },
  {
   "cell_type": "code",
   "execution_count": 33,
   "id": "d3cb4f3c-679c-4807-adef-ee0165d34baa",
   "metadata": {},
   "outputs": [],
   "source": [
    "df = pd.read_json(os.path.join(path,'train.json'))"
   ]
  },
  {
   "cell_type": "code",
   "execution_count": null,
   "id": "7a2b55cf-aeb7-493f-a372-c7b264990f6a",
   "metadata": {},
   "outputs": [],
   "source": [
    "def lemma(text):\n",
    "    for t in text:\n",
    "        text_lst = t.split()\n",
    "        print(text_lst)\n",
    "        noun_lemmatized = [WordNetLemmatizer().lemmatize(tok, pos = \"n\") for tok in text_lst]\n",
    "    return noun_lemmatized"
   ]
  },
  {
   "cell_type": "code",
   "execution_count": null,
   "id": "85b539e4-3edf-42f5-8faa-34cfd75e1e29",
   "metadata": {},
   "outputs": [],
   "source": [
    "df"
   ]
  },
  {
   "cell_type": "code",
   "execution_count": null,
   "id": "f17a7b1b-9249-4c8f-80f9-5d9550ff4d9e",
   "metadata": {},
   "outputs": [],
   "source": [
    "def preprocessing(tokenized_sentence):\n",
    "    stop_words = set(stopwords.words('english'))\n",
    "    no_stopwords = [w for w in tokenized_sentence if not w in stop_words] \n",
    "    #new = ' '.join(no_stopwords)\n",
    "    \n",
    "    #token_sentence= word_tokenize(new)\n",
    "    # Lemmatizing the verbs\n",
    "    verb_lemmatized = [WordNetLemmatizer().lemmatize(tok, pos = \"v\") for tok in no_stopwords]\n",
    "    # 2 - Lemmatizing the nouns\n",
    "    noun_lemmatized = [WordNetLemmatizer().lemmatize(tok, pos = \"n\")for tok in verb_lemmatized]\n",
    "\n",
    "    ingredients = []\n",
    "    for word in noun_lemmatized:\n",
    "        ingredients.append(word.replace(\" \",\"_\"))\n",
    "    final_ingredients = ' '.join(ingredients)\n",
    "    return final_ingredients\n",
    "\n"
   ]
  },
  {
   "cell_type": "code",
   "execution_count": null,
   "id": "800d4e47-08a2-417b-bfc7-2434bfd24589",
   "metadata": {},
   "outputs": [],
   "source": [
    "#df"
   ]
  },
  {
   "cell_type": "code",
   "execution_count": null,
   "id": "047efc90-4021-4835-ac98-557509e6330a",
   "metadata": {},
   "outputs": [],
   "source": [
    "#df['clean']=df['ingredients'].apply(preprocessing)"
   ]
  },
  {
   "cell_type": "code",
   "execution_count": 34,
   "id": "8797dfa6-dfc9-44c4-a5fe-cbc0f43194c8",
   "metadata": {},
   "outputs": [
    {
     "data": {
      "text/html": [
       "<div>\n",
       "<style scoped>\n",
       "    .dataframe tbody tr th:only-of-type {\n",
       "        vertical-align: middle;\n",
       "    }\n",
       "\n",
       "    .dataframe tbody tr th {\n",
       "        vertical-align: top;\n",
       "    }\n",
       "\n",
       "    .dataframe thead th {\n",
       "        text-align: right;\n",
       "    }\n",
       "</style>\n",
       "<table border=\"1\" class=\"dataframe\">\n",
       "  <thead>\n",
       "    <tr style=\"text-align: right;\">\n",
       "      <th></th>\n",
       "      <th>id</th>\n",
       "      <th>cuisine</th>\n",
       "      <th>ingredients</th>\n",
       "    </tr>\n",
       "  </thead>\n",
       "  <tbody>\n",
       "    <tr>\n",
       "      <th>0</th>\n",
       "      <td>10259</td>\n",
       "      <td>greek</td>\n",
       "      <td>[romaine lettuce, black olives, grape tomatoes...</td>\n",
       "    </tr>\n",
       "    <tr>\n",
       "      <th>1</th>\n",
       "      <td>25693</td>\n",
       "      <td>southern_us</td>\n",
       "      <td>[plain flour, ground pepper, salt, tomatoes, g...</td>\n",
       "    </tr>\n",
       "    <tr>\n",
       "      <th>2</th>\n",
       "      <td>20130</td>\n",
       "      <td>filipino</td>\n",
       "      <td>[eggs, pepper, salt, mayonaise, cooking oil, g...</td>\n",
       "    </tr>\n",
       "    <tr>\n",
       "      <th>3</th>\n",
       "      <td>22213</td>\n",
       "      <td>indian</td>\n",
       "      <td>[water, vegetable oil, wheat, salt]</td>\n",
       "    </tr>\n",
       "    <tr>\n",
       "      <th>4</th>\n",
       "      <td>13162</td>\n",
       "      <td>indian</td>\n",
       "      <td>[black pepper, shallots, cornflour, cayenne pe...</td>\n",
       "    </tr>\n",
       "    <tr>\n",
       "      <th>...</th>\n",
       "      <td>...</td>\n",
       "      <td>...</td>\n",
       "      <td>...</td>\n",
       "    </tr>\n",
       "    <tr>\n",
       "      <th>39769</th>\n",
       "      <td>29109</td>\n",
       "      <td>irish</td>\n",
       "      <td>[light brown sugar, granulated sugar, butter, ...</td>\n",
       "    </tr>\n",
       "    <tr>\n",
       "      <th>39770</th>\n",
       "      <td>11462</td>\n",
       "      <td>italian</td>\n",
       "      <td>[KRAFT Zesty Italian Dressing, purple onion, b...</td>\n",
       "    </tr>\n",
       "    <tr>\n",
       "      <th>39771</th>\n",
       "      <td>2238</td>\n",
       "      <td>irish</td>\n",
       "      <td>[eggs, citrus fruit, raisins, sourdough starte...</td>\n",
       "    </tr>\n",
       "    <tr>\n",
       "      <th>39772</th>\n",
       "      <td>41882</td>\n",
       "      <td>chinese</td>\n",
       "      <td>[boneless chicken skinless thigh, minced garli...</td>\n",
       "    </tr>\n",
       "    <tr>\n",
       "      <th>39773</th>\n",
       "      <td>2362</td>\n",
       "      <td>mexican</td>\n",
       "      <td>[green chile, jalapeno chilies, onions, ground...</td>\n",
       "    </tr>\n",
       "  </tbody>\n",
       "</table>\n",
       "<p>39774 rows × 3 columns</p>\n",
       "</div>"
      ],
      "text/plain": [
       "          id      cuisine                                        ingredients\n",
       "0      10259        greek  [romaine lettuce, black olives, grape tomatoes...\n",
       "1      25693  southern_us  [plain flour, ground pepper, salt, tomatoes, g...\n",
       "2      20130     filipino  [eggs, pepper, salt, mayonaise, cooking oil, g...\n",
       "3      22213       indian                [water, vegetable oil, wheat, salt]\n",
       "4      13162       indian  [black pepper, shallots, cornflour, cayenne pe...\n",
       "...      ...          ...                                                ...\n",
       "39769  29109        irish  [light brown sugar, granulated sugar, butter, ...\n",
       "39770  11462      italian  [KRAFT Zesty Italian Dressing, purple onion, b...\n",
       "39771   2238        irish  [eggs, citrus fruit, raisins, sourdough starte...\n",
       "39772  41882      chinese  [boneless chicken skinless thigh, minced garli...\n",
       "39773   2362      mexican  [green chile, jalapeno chilies, onions, ground...\n",
       "\n",
       "[39774 rows x 3 columns]"
      ]
     },
     "execution_count": 34,
     "metadata": {},
     "output_type": "execute_result"
    }
   ],
   "source": [
    "df"
   ]
  },
  {
   "cell_type": "markdown",
   "id": "25c68844-cf6e-41cb-bf6c-ddce36dc626c",
   "metadata": {},
   "source": [
    "K Means Testing"
   ]
  },
  {
   "cell_type": "code",
   "execution_count": 35,
   "id": "276fa548-a3c4-4fba-a009-e510f709e835",
   "metadata": {},
   "outputs": [],
   "source": [
    "# Step 1: Preprocess the ingredients strings\n",
    "#df['clean']=df['ingredients'].map(lambda x: ' '.join(x))\n",
    "#df['clean'] = df['ingredients'].apply(lambda x: x.split(', '))\n",
    "ingredients_list = df['ingredients'].tolist()"
   ]
  },
  {
   "cell_type": "code",
   "execution_count": 36,
   "id": "0dabc3a1-9c45-42d3-8733-f21f3cf14f7f",
   "metadata": {},
   "outputs": [
    {
     "data": {
      "text/html": [
       "<div>\n",
       "<style scoped>\n",
       "    .dataframe tbody tr th:only-of-type {\n",
       "        vertical-align: middle;\n",
       "    }\n",
       "\n",
       "    .dataframe tbody tr th {\n",
       "        vertical-align: top;\n",
       "    }\n",
       "\n",
       "    .dataframe thead th {\n",
       "        text-align: right;\n",
       "    }\n",
       "</style>\n",
       "<table border=\"1\" class=\"dataframe\">\n",
       "  <thead>\n",
       "    <tr style=\"text-align: right;\">\n",
       "      <th></th>\n",
       "      <th>id</th>\n",
       "      <th>cuisine</th>\n",
       "      <th>ingredients</th>\n",
       "    </tr>\n",
       "  </thead>\n",
       "  <tbody>\n",
       "    <tr>\n",
       "      <th>0</th>\n",
       "      <td>10259</td>\n",
       "      <td>greek</td>\n",
       "      <td>[romaine lettuce, black olives, grape tomatoes...</td>\n",
       "    </tr>\n",
       "    <tr>\n",
       "      <th>1</th>\n",
       "      <td>25693</td>\n",
       "      <td>southern_us</td>\n",
       "      <td>[plain flour, ground pepper, salt, tomatoes, g...</td>\n",
       "    </tr>\n",
       "    <tr>\n",
       "      <th>2</th>\n",
       "      <td>20130</td>\n",
       "      <td>filipino</td>\n",
       "      <td>[eggs, pepper, salt, mayonaise, cooking oil, g...</td>\n",
       "    </tr>\n",
       "    <tr>\n",
       "      <th>3</th>\n",
       "      <td>22213</td>\n",
       "      <td>indian</td>\n",
       "      <td>[water, vegetable oil, wheat, salt]</td>\n",
       "    </tr>\n",
       "    <tr>\n",
       "      <th>4</th>\n",
       "      <td>13162</td>\n",
       "      <td>indian</td>\n",
       "      <td>[black pepper, shallots, cornflour, cayenne pe...</td>\n",
       "    </tr>\n",
       "    <tr>\n",
       "      <th>...</th>\n",
       "      <td>...</td>\n",
       "      <td>...</td>\n",
       "      <td>...</td>\n",
       "    </tr>\n",
       "    <tr>\n",
       "      <th>39769</th>\n",
       "      <td>29109</td>\n",
       "      <td>irish</td>\n",
       "      <td>[light brown sugar, granulated sugar, butter, ...</td>\n",
       "    </tr>\n",
       "    <tr>\n",
       "      <th>39770</th>\n",
       "      <td>11462</td>\n",
       "      <td>italian</td>\n",
       "      <td>[KRAFT Zesty Italian Dressing, purple onion, b...</td>\n",
       "    </tr>\n",
       "    <tr>\n",
       "      <th>39771</th>\n",
       "      <td>2238</td>\n",
       "      <td>irish</td>\n",
       "      <td>[eggs, citrus fruit, raisins, sourdough starte...</td>\n",
       "    </tr>\n",
       "    <tr>\n",
       "      <th>39772</th>\n",
       "      <td>41882</td>\n",
       "      <td>chinese</td>\n",
       "      <td>[boneless chicken skinless thigh, minced garli...</td>\n",
       "    </tr>\n",
       "    <tr>\n",
       "      <th>39773</th>\n",
       "      <td>2362</td>\n",
       "      <td>mexican</td>\n",
       "      <td>[green chile, jalapeno chilies, onions, ground...</td>\n",
       "    </tr>\n",
       "  </tbody>\n",
       "</table>\n",
       "<p>39774 rows × 3 columns</p>\n",
       "</div>"
      ],
      "text/plain": [
       "          id      cuisine                                        ingredients\n",
       "0      10259        greek  [romaine lettuce, black olives, grape tomatoes...\n",
       "1      25693  southern_us  [plain flour, ground pepper, salt, tomatoes, g...\n",
       "2      20130     filipino  [eggs, pepper, salt, mayonaise, cooking oil, g...\n",
       "3      22213       indian                [water, vegetable oil, wheat, salt]\n",
       "4      13162       indian  [black pepper, shallots, cornflour, cayenne pe...\n",
       "...      ...          ...                                                ...\n",
       "39769  29109        irish  [light brown sugar, granulated sugar, butter, ...\n",
       "39770  11462      italian  [KRAFT Zesty Italian Dressing, purple onion, b...\n",
       "39771   2238        irish  [eggs, citrus fruit, raisins, sourdough starte...\n",
       "39772  41882      chinese  [boneless chicken skinless thigh, minced garli...\n",
       "39773   2362      mexican  [green chile, jalapeno chilies, onions, ground...\n",
       "\n",
       "[39774 rows x 3 columns]"
      ]
     },
     "execution_count": 36,
     "metadata": {},
     "output_type": "execute_result"
    }
   ],
   "source": [
    "df"
   ]
  },
  {
   "cell_type": "code",
   "execution_count": null,
   "id": "c95e346d-2bde-4503-b131-e64145381933",
   "metadata": {},
   "outputs": [],
   "source": []
  },
  {
   "cell_type": "code",
   "execution_count": 37,
   "id": "c8f1aab7-8915-464e-a1d1-0fc0630c72ac",
   "metadata": {},
   "outputs": [
    {
     "name": "stderr",
     "output_type": "stream",
     "text": [
      "/Users/camillemolen/.pyenv/versions/3.10.6/envs/replenish/lib/python3.10/site-packages/sklearn/feature_extraction/text.py:525: UserWarning: The parameter 'token_pattern' will not be used since 'tokenizer' is not None'\n",
      "  warnings.warn(\n"
     ]
    }
   ],
   "source": [
    "# Step 2: Convert ingredients into a bag-of-words representation\n",
    "vectorizer = TfidfVectorizer(tokenizer=lambda x: x, preprocessor=lambda x: x, min_df=0.005)\n",
    "X = vectorizer.fit_transform(ingredients_list)"
   ]
  },
  {
   "cell_type": "code",
   "execution_count": 21,
   "id": "cfa2e7cf-4f3f-4fb8-b61e-95fdf6325d86",
   "metadata": {},
   "outputs": [],
   "source": [
    "#df_new = pd.DataFrame(X.toarray(), columns = vectorizer.get_feature_names_out()).T\n",
    "#df_new['sum'] = df_new.sum(axis=1)\n",
    "#df_new[['sum']].sort_values('sum', ascending=False).head(50)"
   ]
  },
  {
   "cell_type": "code",
   "execution_count": 22,
   "id": "3624f36e-1521-4dec-a021-517ea4add77d",
   "metadata": {},
   "outputs": [],
   "source": [
    "# Step 3: Scale the data\n",
    "#scaler = StandardScaler()\n",
    "#X_scaled = scaler.fit_transform(X.toarray())\n",
    "#X_scaled"
   ]
  },
  {
   "cell_type": "code",
   "execution_count": 38,
   "id": "0a4baf56-4ee8-42b4-9ceb-02b4ace69e00",
   "metadata": {},
   "outputs": [],
   "source": [
    "# Step 4: Apply KMeans clustering\n",
    "num_clusters = 10 # You can adjust this based on your desired number of clusters\n",
    "kmeans = KMeans(n_clusters=num_clusters)"
   ]
  },
  {
   "cell_type": "code",
   "execution_count": 39,
   "id": "777ecf9f-c8f6-45b7-8823-d80255e68770",
   "metadata": {},
   "outputs": [
    {
     "name": "stderr",
     "output_type": "stream",
     "text": [
      "/Users/camillemolen/.pyenv/versions/3.10.6/envs/replenish/lib/python3.10/site-packages/sklearn/cluster/_kmeans.py:1412: FutureWarning: The default value of `n_init` will change from 10 to 'auto' in 1.4. Set the value of `n_init` explicitly to suppress the warning\n",
      "  super()._check_params_vs_input(X, default_n_init=10)\n"
     ]
    }
   ],
   "source": [
    "kmeans_res = kmeans.fit_predict(X)"
   ]
  },
  {
   "cell_type": "code",
   "execution_count": 40,
   "id": "2af33f9d-7c86-4188-bfb1-764e4defeda2",
   "metadata": {},
   "outputs": [
    {
     "data": {
      "text/plain": [
       "{0, 1, 2, 3, 4, 5, 6, 7, 8, 9}"
      ]
     },
     "execution_count": 40,
     "metadata": {},
     "output_type": "execute_result"
    }
   ],
   "source": [
    "set(kmeans_res)"
   ]
  },
  {
   "cell_type": "code",
   "execution_count": 49,
   "id": "b01914b1-7691-480e-8e59-363d5b889ee6",
   "metadata": {},
   "outputs": [],
   "source": [
    "#column with clusters\n",
    "df['cluster'] = kmeans.fit_predict(X)"
   ]
  },
  {
   "cell_type": "code",
   "execution_count": 50,
   "id": "0d3b3c3d-d562-43da-8312-530a0537e62c",
   "metadata": {},
   "outputs": [
    {
     "data": {
      "text/plain": [
       "cluster\n",
       "4    10672\n",
       "2     5277\n",
       "6     3990\n",
       "9     3847\n",
       "7     3351\n",
       "8     3090\n",
       "1     2553\n",
       "0     2534\n",
       "3     2268\n",
       "5     2192\n",
       "Name: count, dtype: int64"
      ]
     },
     "execution_count": 50,
     "metadata": {},
     "output_type": "execute_result"
    }
   ],
   "source": [
    "df['cluster'].value_counts()"
   ]
  },
  {
   "cell_type": "code",
   "execution_count": 51,
   "id": "d9bc9ae5-3d87-4008-9642-146c7ae2a70f",
   "metadata": {},
   "outputs": [],
   "source": [
    "pd.set_option('display.max_colwidth', 200)"
   ]
  },
  {
   "cell_type": "code",
   "execution_count": 52,
   "id": "5b093fdc-f516-4d05-8b23-4478ff09dbca",
   "metadata": {},
   "outputs": [
    {
     "data": {
      "text/html": [
       "<div>\n",
       "<style scoped>\n",
       "    .dataframe tbody tr th:only-of-type {\n",
       "        vertical-align: middle;\n",
       "    }\n",
       "\n",
       "    .dataframe tbody tr th {\n",
       "        vertical-align: top;\n",
       "    }\n",
       "\n",
       "    .dataframe thead th {\n",
       "        text-align: right;\n",
       "    }\n",
       "</style>\n",
       "<table border=\"1\" class=\"dataframe\">\n",
       "  <thead>\n",
       "    <tr style=\"text-align: right;\">\n",
       "      <th></th>\n",
       "      <th>ingredients</th>\n",
       "      <th>cluster</th>\n",
       "      <th>cuisine</th>\n",
       "    </tr>\n",
       "  </thead>\n",
       "  <tbody>\n",
       "    <tr>\n",
       "      <th>11</th>\n",
       "      <td>[low sodium soy sauce, fresh ginger, dry mustard, green beans, white pepper, sesame oil, scallions, canola oil, sugar, Shaoxing wine, garlic, ground turkey, water, crushed red pepper flakes, corn ...</td>\n",
       "      <td>9</td>\n",
       "      <td>chinese</td>\n",
       "    </tr>\n",
       "    <tr>\n",
       "      <th>19</th>\n",
       "      <td>[soy sauce, vegetable oil, red bell pepper, chicken broth, yellow squash, garlic chili sauce, sliced green onions, broccolini, salt, fresh lime juice, cooked rice, chicken breasts, corn starch]</td>\n",
       "      <td>9</td>\n",
       "      <td>vietnamese</td>\n",
       "    </tr>\n",
       "    <tr>\n",
       "      <th>23</th>\n",
       "      <td>[sesame seeds, red pepper, yellow peppers, water, extra firm tofu, broccoli, soy sauce, orange bell pepper, arrowroot powder, fresh ginger, sesame oil, red curry paste]</td>\n",
       "      <td>9</td>\n",
       "      <td>chinese</td>\n",
       "    </tr>\n",
       "    <tr>\n",
       "      <th>25</th>\n",
       "      <td>[sugar, lo mein noodles, salt, chicken broth, light soy sauce, flank steak, beansprouts, dried black mushrooms, pepper, chives, oyster sauce, dark soy sauce, peanuts, sesame oil, cabbage]</td>\n",
       "      <td>9</td>\n",
       "      <td>chinese</td>\n",
       "    </tr>\n",
       "    <tr>\n",
       "      <th>28</th>\n",
       "      <td>[green bell pepper, egg roll wrappers, sweet and sour sauce, corn starch, molasses, vegetable oil, oil, soy sauce, shredded cabbage, garlic, onions, fresh ginger root, ground pork, carrots]</td>\n",
       "      <td>9</td>\n",
       "      <td>chinese</td>\n",
       "    </tr>\n",
       "    <tr>\n",
       "      <th>37</th>\n",
       "      <td>[chicken broth, cooking oil, chinese five-spice powder, ground black pepper, salt, sugar, crushed garlic, chicken thighs, soy sauce, star anise]</td>\n",
       "      <td>9</td>\n",
       "      <td>filipino</td>\n",
       "    </tr>\n",
       "    <tr>\n",
       "      <th>61</th>\n",
       "      <td>[lemongrass, large garlic cloves, rice, unsweetened coconut milk, fresh ginger, peanut sauce, spareribs, sesame oil, tamari soy sauce, golden brown sugar, dry sherry, boiling water]</td>\n",
       "      <td>9</td>\n",
       "      <td>thai</td>\n",
       "    </tr>\n",
       "    <tr>\n",
       "      <th>66</th>\n",
       "      <td>[jasmine rice, garlic, scallions, sugar, shiitake, Gochujang base, beansprouts, top round steak, sesame seeds, rice vinegar, carrots, soy sauce, sesame oil, Taiwanese bok choy]</td>\n",
       "      <td>9</td>\n",
       "      <td>korean</td>\n",
       "    </tr>\n",
       "    <tr>\n",
       "      <th>78</th>\n",
       "      <td>[top round steak, vegetable oil, shiitake, soy sauce, fresh asparagus, green onions]</td>\n",
       "      <td>9</td>\n",
       "      <td>japanese</td>\n",
       "    </tr>\n",
       "    <tr>\n",
       "      <th>110</th>\n",
       "      <td>[chinese rice wine, shiitake, sesame oil, oil, soy sauce, egg roll wrappers, garlic, corn starch, sugar, ground black pepper, ground pork, carrots, fresh ginger, cooking oil, salt, cabbage]</td>\n",
       "      <td>9</td>\n",
       "      <td>chinese</td>\n",
       "    </tr>\n",
       "    <tr>\n",
       "      <th>113</th>\n",
       "      <td>[water, salt, garlic cloves, cold water, orange, sauce, onions, soy sauce, star anise, chinese five-spice powder, brown sugar, fresh ginger, duck]</td>\n",
       "      <td>9</td>\n",
       "      <td>chinese</td>\n",
       "    </tr>\n",
       "    <tr>\n",
       "      <th>116</th>\n",
       "      <td>[sugar, napa cabbage leaves, garlic, chicken leg quarters, soy sauce, butter, rice vinegar, red chili peppers, sesame oil, salt, cucumber, pepper, ginger, long-grain rice]</td>\n",
       "      <td>9</td>\n",
       "      <td>chinese</td>\n",
       "    </tr>\n",
       "    <tr>\n",
       "      <th>140</th>\n",
       "      <td>[fish sauce, chicken broth, sesame oil, green onions, eggs]</td>\n",
       "      <td>9</td>\n",
       "      <td>korean</td>\n",
       "    </tr>\n",
       "    <tr>\n",
       "      <th>148</th>\n",
       "      <td>[fresh ginger, garlic, low sodium soy sauce, mirin, toasted sesame oil, tofu, short-grain rice, dried shiitake mushrooms, gari, green onions]</td>\n",
       "      <td>9</td>\n",
       "      <td>chinese</td>\n",
       "    </tr>\n",
       "    <tr>\n",
       "      <th>157</th>\n",
       "      <td>[soy sauce, chili paste, oil, brown sugar, honey, red pepper flakes, kiwi, pepper, asian pear, garlic cloves, pork, fresh ginger, salt]</td>\n",
       "      <td>9</td>\n",
       "      <td>korean</td>\n",
       "    </tr>\n",
       "    <tr>\n",
       "      <th>162</th>\n",
       "      <td>[wakame, extra-lean ground beef, minced garlic, salt, water, soy sauce, sesame oil]</td>\n",
       "      <td>9</td>\n",
       "      <td>korean</td>\n",
       "    </tr>\n",
       "    <tr>\n",
       "      <th>163</th>\n",
       "      <td>[scallion greens, Sriracha, carrots, soy sauce, wonton wrappers, toasted sesame oil, sugar, peeled fresh ginger, nonstick spray, white vinegar, large egg whites, scallions, large shrimp]</td>\n",
       "      <td>9</td>\n",
       "      <td>chinese</td>\n",
       "    </tr>\n",
       "    <tr>\n",
       "      <th>167</th>\n",
       "      <td>[chicken stock, minced garlic, seasoned rice wine vinegar, snow peas, soy sauce, vegetable oil, garlic cloves, sugar, fresh ginger root, rice vinegar, large shrimp, white pepper, garlic, corn starch]</td>\n",
       "      <td>9</td>\n",
       "      <td>chinese</td>\n",
       "    </tr>\n",
       "    <tr>\n",
       "      <th>172</th>\n",
       "      <td>[fresh ginger, vegetable broth, sake, green onions, carrots, udon, red miso, silken tofu, button mushrooms]</td>\n",
       "      <td>9</td>\n",
       "      <td>japanese</td>\n",
       "    </tr>\n",
       "    <tr>\n",
       "      <th>179</th>\n",
       "      <td>[soy sauce, egg whites, red wine vinegar, peanut oil, chicken stock, peanuts, chicken breasts, chili paste with garlic, fresh ginger, green onions, red pepper flakes, corn starch, sugar, fresh veg...</td>\n",
       "      <td>9</td>\n",
       "      <td>chinese</td>\n",
       "    </tr>\n",
       "    <tr>\n",
       "      <th>182</th>\n",
       "      <td>[soy sauce, ginger, canola oil, flour, rice vinegar, honey, garlic, chicken wings, sesame oil, corn starch]</td>\n",
       "      <td>9</td>\n",
       "      <td>korean</td>\n",
       "    </tr>\n",
       "    <tr>\n",
       "      <th>191</th>\n",
       "      <td>[sake, sesame oil, boneless chicken thighs, peanut oil, soy sauce, vegetable oil, potato starch, fresh ginger]</td>\n",
       "      <td>9</td>\n",
       "      <td>japanese</td>\n",
       "    </tr>\n",
       "    <tr>\n",
       "      <th>197</th>\n",
       "      <td>[gari, rice vinegar, wasabi paste, black sesame seeds, scallions, Japanese soy sauce, fresh salmon, sugar, ginger, garlic cloves]</td>\n",
       "      <td>9</td>\n",
       "      <td>japanese</td>\n",
       "    </tr>\n",
       "    <tr>\n",
       "      <th>204</th>\n",
       "      <td>[water, chicken breasts, oyster sauce, soy sauce, egg whites, garlic, cooked white rice, kosher salt, mixed mushrooms, sauce, wood ear mushrooms, chinese rice wine, vegetables, sesame oil, corn st...</td>\n",
       "      <td>9</td>\n",
       "      <td>chinese</td>\n",
       "    </tr>\n",
       "    <tr>\n",
       "      <th>205</th>\n",
       "      <td>[hoisin sauce, corn starch, green onions, extra firm tofu, oil]</td>\n",
       "      <td>9</td>\n",
       "      <td>japanese</td>\n",
       "    </tr>\n",
       "    <tr>\n",
       "      <th>215</th>\n",
       "      <td>[sesame oil, water, soy sauce, kale]</td>\n",
       "      <td>9</td>\n",
       "      <td>korean</td>\n",
       "    </tr>\n",
       "    <tr>\n",
       "      <th>232</th>\n",
       "      <td>[wasabi, soy sauce, seaweed, jumbo shrimp, salt, red bell pepper, avocado, sticky rice, cucumber, sugar, rice vinegar, white sesame seeds]</td>\n",
       "      <td>9</td>\n",
       "      <td>japanese</td>\n",
       "    </tr>\n",
       "    <tr>\n",
       "      <th>241</th>\n",
       "      <td>[romaine lettuce, sesame seeds, gingerroot, soy sauce, sesame oil, cooked white rice, sugar, mirin, garlic cloves, rib eye steaks, black pepper, hot bean paste, onions]</td>\n",
       "      <td>9</td>\n",
       "      <td>korean</td>\n",
       "    </tr>\n",
       "    <tr>\n",
       "      <th>249</th>\n",
       "      <td>[lime, cilantro, glass noodles, Boston lettuce, mirin, persian cucumber, avocado, thai basil, peanut butter, rice paper, soy sauce, Sriracha, carrots]</td>\n",
       "      <td>9</td>\n",
       "      <td>vietnamese</td>\n",
       "    </tr>\n",
       "    <tr>\n",
       "      <th>260</th>\n",
       "      <td>[eggs, honey, sesame oil, corn starch, minced garlic, boneless skinless chicken breasts, rice vinegar, ketchup, flour, salt, canola oil, cold water, water, baking powder, oil]</td>\n",
       "      <td>9</td>\n",
       "      <td>chinese</td>\n",
       "    </tr>\n",
       "  </tbody>\n",
       "</table>\n",
       "</div>"
      ],
      "text/plain": [
       "                                                                                                                                                                                                 ingredients  \\\n",
       "11   [low sodium soy sauce, fresh ginger, dry mustard, green beans, white pepper, sesame oil, scallions, canola oil, sugar, Shaoxing wine, garlic, ground turkey, water, crushed red pepper flakes, corn ...   \n",
       "19         [soy sauce, vegetable oil, red bell pepper, chicken broth, yellow squash, garlic chili sauce, sliced green onions, broccolini, salt, fresh lime juice, cooked rice, chicken breasts, corn starch]   \n",
       "23                                  [sesame seeds, red pepper, yellow peppers, water, extra firm tofu, broccoli, soy sauce, orange bell pepper, arrowroot powder, fresh ginger, sesame oil, red curry paste]   \n",
       "25               [sugar, lo mein noodles, salt, chicken broth, light soy sauce, flank steak, beansprouts, dried black mushrooms, pepper, chives, oyster sauce, dark soy sauce, peanuts, sesame oil, cabbage]   \n",
       "28             [green bell pepper, egg roll wrappers, sweet and sour sauce, corn starch, molasses, vegetable oil, oil, soy sauce, shredded cabbage, garlic, onions, fresh ginger root, ground pork, carrots]   \n",
       "37                                                          [chicken broth, cooking oil, chinese five-spice powder, ground black pepper, salt, sugar, crushed garlic, chicken thighs, soy sauce, star anise]   \n",
       "61                     [lemongrass, large garlic cloves, rice, unsweetened coconut milk, fresh ginger, peanut sauce, spareribs, sesame oil, tamari soy sauce, golden brown sugar, dry sherry, boiling water]   \n",
       "66                          [jasmine rice, garlic, scallions, sugar, shiitake, Gochujang base, beansprouts, top round steak, sesame seeds, rice vinegar, carrots, soy sauce, sesame oil, Taiwanese bok choy]   \n",
       "78                                                                                                                      [top round steak, vegetable oil, shiitake, soy sauce, fresh asparagus, green onions]   \n",
       "110            [chinese rice wine, shiitake, sesame oil, oil, soy sauce, egg roll wrappers, garlic, corn starch, sugar, ground black pepper, ground pork, carrots, fresh ginger, cooking oil, salt, cabbage]   \n",
       "113                                                       [water, salt, garlic cloves, cold water, orange, sauce, onions, soy sauce, star anise, chinese five-spice powder, brown sugar, fresh ginger, duck]   \n",
       "116                              [sugar, napa cabbage leaves, garlic, chicken leg quarters, soy sauce, butter, rice vinegar, red chili peppers, sesame oil, salt, cucumber, pepper, ginger, long-grain rice]   \n",
       "140                                                                                                                                              [fish sauce, chicken broth, sesame oil, green onions, eggs]   \n",
       "148                                                            [fresh ginger, garlic, low sodium soy sauce, mirin, toasted sesame oil, tofu, short-grain rice, dried shiitake mushrooms, gari, green onions]   \n",
       "157                                                                  [soy sauce, chili paste, oil, brown sugar, honey, red pepper flakes, kiwi, pepper, asian pear, garlic cloves, pork, fresh ginger, salt]   \n",
       "162                                                                                                                      [wakame, extra-lean ground beef, minced garlic, salt, water, soy sauce, sesame oil]   \n",
       "163               [scallion greens, Sriracha, carrots, soy sauce, wonton wrappers, toasted sesame oil, sugar, peeled fresh ginger, nonstick spray, white vinegar, large egg whites, scallions, large shrimp]   \n",
       "167  [chicken stock, minced garlic, seasoned rice wine vinegar, snow peas, soy sauce, vegetable oil, garlic cloves, sugar, fresh ginger root, rice vinegar, large shrimp, white pepper, garlic, corn starch]   \n",
       "172                                                                                              [fresh ginger, vegetable broth, sake, green onions, carrots, udon, red miso, silken tofu, button mushrooms]   \n",
       "179  [soy sauce, egg whites, red wine vinegar, peanut oil, chicken stock, peanuts, chicken breasts, chili paste with garlic, fresh ginger, green onions, red pepper flakes, corn starch, sugar, fresh veg...   \n",
       "182                                                                                              [soy sauce, ginger, canola oil, flour, rice vinegar, honey, garlic, chicken wings, sesame oil, corn starch]   \n",
       "191                                                                                           [sake, sesame oil, boneless chicken thighs, peanut oil, soy sauce, vegetable oil, potato starch, fresh ginger]   \n",
       "197                                                                        [gari, rice vinegar, wasabi paste, black sesame seeds, scallions, Japanese soy sauce, fresh salmon, sugar, ginger, garlic cloves]   \n",
       "204  [water, chicken breasts, oyster sauce, soy sauce, egg whites, garlic, cooked white rice, kosher salt, mixed mushrooms, sauce, wood ear mushrooms, chinese rice wine, vegetables, sesame oil, corn st...   \n",
       "205                                                                                                                                          [hoisin sauce, corn starch, green onions, extra firm tofu, oil]   \n",
       "215                                                                                                                                                                     [sesame oil, water, soy sauce, kale]   \n",
       "232                                                               [wasabi, soy sauce, seaweed, jumbo shrimp, salt, red bell pepper, avocado, sticky rice, cucumber, sugar, rice vinegar, white sesame seeds]   \n",
       "241                                 [romaine lettuce, sesame seeds, gingerroot, soy sauce, sesame oil, cooked white rice, sugar, mirin, garlic cloves, rib eye steaks, black pepper, hot bean paste, onions]   \n",
       "249                                                   [lime, cilantro, glass noodles, Boston lettuce, mirin, persian cucumber, avocado, thai basil, peanut butter, rice paper, soy sauce, Sriracha, carrots]   \n",
       "260                          [eggs, honey, sesame oil, corn starch, minced garlic, boneless skinless chicken breasts, rice vinegar, ketchup, flour, salt, canola oil, cold water, water, baking powder, oil]   \n",
       "\n",
       "     cluster     cuisine  \n",
       "11         9     chinese  \n",
       "19         9  vietnamese  \n",
       "23         9     chinese  \n",
       "25         9     chinese  \n",
       "28         9     chinese  \n",
       "37         9    filipino  \n",
       "61         9        thai  \n",
       "66         9      korean  \n",
       "78         9    japanese  \n",
       "110        9     chinese  \n",
       "113        9     chinese  \n",
       "116        9     chinese  \n",
       "140        9      korean  \n",
       "148        9     chinese  \n",
       "157        9      korean  \n",
       "162        9      korean  \n",
       "163        9     chinese  \n",
       "167        9     chinese  \n",
       "172        9    japanese  \n",
       "179        9     chinese  \n",
       "182        9      korean  \n",
       "191        9    japanese  \n",
       "197        9    japanese  \n",
       "204        9     chinese  \n",
       "205        9    japanese  \n",
       "215        9      korean  \n",
       "232        9    japanese  \n",
       "241        9      korean  \n",
       "249        9  vietnamese  \n",
       "260        9     chinese  "
      ]
     },
     "execution_count": 52,
     "metadata": {},
     "output_type": "execute_result"
    }
   ],
   "source": [
    "df[df['cluster']==9][['ingredients', 'cluster', 'cuisine']].head(30)"
   ]
  },
  {
   "cell_type": "code",
   "execution_count": 53,
   "id": "27a80fe2-085a-4289-8e3e-8ccf10544f98",
   "metadata": {},
   "outputs": [
    {
     "ename": "AttributeError",
     "evalue": "'Series' object has no attribute 'unique_values'",
     "output_type": "error",
     "traceback": [
      "\u001b[0;31m---------------------------------------------------------------------------\u001b[0m",
      "\u001b[0;31mAttributeError\u001b[0m                            Traceback (most recent call last)",
      "\u001b[0;32m/var/folders/rp/7ftqrxx9701fy2jzfscnlwyw0000gn/T/ipykernel_56185/1933816605.py\u001b[0m in \u001b[0;36m?\u001b[0;34m()\u001b[0m\n\u001b[0;32m----> 1\u001b[0;31m \u001b[0mdf\u001b[0m\u001b[0;34m.\u001b[0m\u001b[0mcluster\u001b[0m\u001b[0;34m.\u001b[0m\u001b[0munique_values\u001b[0m\u001b[0;34m(\u001b[0m\u001b[0;34m)\u001b[0m\u001b[0;34m\u001b[0m\u001b[0;34m\u001b[0m\u001b[0m\n\u001b[0m",
      "\u001b[0;32m~/.pyenv/versions/3.10.6/envs/replenish/lib/python3.10/site-packages/pandas/core/generic.py\u001b[0m in \u001b[0;36m?\u001b[0;34m(self, name)\u001b[0m\n\u001b[1;32m   5985\u001b[0m             \u001b[0;32mand\u001b[0m \u001b[0mname\u001b[0m \u001b[0;32mnot\u001b[0m \u001b[0;32min\u001b[0m \u001b[0mself\u001b[0m\u001b[0;34m.\u001b[0m\u001b[0m_accessors\u001b[0m\u001b[0;34m\u001b[0m\u001b[0;34m\u001b[0m\u001b[0m\n\u001b[1;32m   5986\u001b[0m             \u001b[0;32mand\u001b[0m \u001b[0mself\u001b[0m\u001b[0;34m.\u001b[0m\u001b[0m_info_axis\u001b[0m\u001b[0;34m.\u001b[0m\u001b[0m_can_hold_identifiers_and_holds_name\u001b[0m\u001b[0;34m(\u001b[0m\u001b[0mname\u001b[0m\u001b[0;34m)\u001b[0m\u001b[0;34m\u001b[0m\u001b[0;34m\u001b[0m\u001b[0m\n\u001b[1;32m   5987\u001b[0m         ):\n\u001b[1;32m   5988\u001b[0m             \u001b[0;32mreturn\u001b[0m \u001b[0mself\u001b[0m\u001b[0;34m[\u001b[0m\u001b[0mname\u001b[0m\u001b[0;34m]\u001b[0m\u001b[0;34m\u001b[0m\u001b[0;34m\u001b[0m\u001b[0m\n\u001b[0;32m-> 5989\u001b[0;31m         \u001b[0;32mreturn\u001b[0m \u001b[0mobject\u001b[0m\u001b[0;34m.\u001b[0m\u001b[0m__getattribute__\u001b[0m\u001b[0;34m(\u001b[0m\u001b[0mself\u001b[0m\u001b[0;34m,\u001b[0m \u001b[0mname\u001b[0m\u001b[0;34m)\u001b[0m\u001b[0;34m\u001b[0m\u001b[0;34m\u001b[0m\u001b[0m\n\u001b[0m",
      "\u001b[0;31mAttributeError\u001b[0m: 'Series' object has no attribute 'unique_values'"
     ]
    }
   ],
   "source": [
    "df.cluster.unique_values()"
   ]
  },
  {
   "cell_type": "code",
   "execution_count": 54,
   "id": "5fac1e43-4702-416e-9b8a-0da3a3f3ca49",
   "metadata": {},
   "outputs": [
    {
     "ename": "AttributeError",
     "evalue": "'numpy.ndarray' object has no attribute 'get_params'",
     "output_type": "error",
     "traceback": [
      "\u001b[0;31m---------------------------------------------------------------------------\u001b[0m",
      "\u001b[0;31mAttributeError\u001b[0m                            Traceback (most recent call last)",
      "Cell \u001b[0;32mIn[54], line 1\u001b[0m\n\u001b[0;32m----> 1\u001b[0m \u001b[43mkmeans_res\u001b[49m\u001b[38;5;241;43m.\u001b[39;49m\u001b[43mget_params\u001b[49m\n",
      "\u001b[0;31mAttributeError\u001b[0m: 'numpy.ndarray' object has no attribute 'get_params'"
     ]
    }
   ],
   "source": [
    "kmeans_res.get_params"
   ]
  },
  {
   "cell_type": "code",
   "execution_count": null,
   "id": "e5751763-ff66-4b91-9d18-cd21261dbe31",
   "metadata": {},
   "outputs": [],
   "source": []
  },
  {
   "cell_type": "code",
   "execution_count": null,
   "id": "858fc868-5f39-44ae-8340-6be5a9779be7",
   "metadata": {},
   "outputs": [],
   "source": []
  }
 ],
 "metadata": {
  "kernelspec": {
   "display_name": "Python 3 (ipykernel)",
   "language": "python",
   "name": "python3"
  },
  "language_info": {
   "codemirror_mode": {
    "name": "ipython",
    "version": 3
   },
   "file_extension": ".py",
   "mimetype": "text/x-python",
   "name": "python",
   "nbconvert_exporter": "python",
   "pygments_lexer": "ipython3",
   "version": "3.10.6"
  }
 },
 "nbformat": 4,
 "nbformat_minor": 5
}
