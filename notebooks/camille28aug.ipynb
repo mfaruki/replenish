{
 "cells": [
  {
   "cell_type": "code",
   "execution_count": 12,
   "metadata": {},
   "outputs": [],
   "source": [
    "import requests\n",
    "from bs4 import BeautifulSoup\n",
    "import re"
   ]
  },
  {
   "cell_type": "code",
   "execution_count": 6,
   "metadata": {},
   "outputs": [
    {
     "name": "stdout",
     "output_type": "stream",
     "text": [
      "<time datetime=\"PT0H5M\">5 mins</time>\n"
     ]
    }
   ],
   "source": [
    "\n",
    "# What does our URL look like?\n",
    "url = \"https://www.bbcgoodfood.com/recipes/feta-peach-couscous\"\n",
    "# Get the response\n",
    "response = requests.get(url)\n",
    "# Turn it into Soup\n",
    "soup = BeautifulSoup(response.text, \"html.parser\")\n",
    "# Find the right tag\n",
    "life_info = soup.find(\"div\", class_= \"icon-with-text__children\").find('time',datetime='PT0H5M')\n",
    "\n",
    "print(life_info)"
   ]
  },
  {
   "cell_type": "code",
   "execution_count": 34,
   "metadata": {},
   "outputs": [],
   "source": [
    "\n",
    "\n",
    "# URL of the search results page\n",
    "search_url = \"https://www.bbcgoodfood.com/search?q=\"\n",
    "\n",
    "# Send an HTTP GET request\n",
    "response = requests.get(search_url)\n",
    "soup = BeautifulSoup(response.content, \"html.parser\")\n",
    "\n",
    "# Extract recipe links\n",
    "recipe_links = []\n",
    "for link in soup.find_all(\"a\", class_=\"link d-block\"):\n",
    "    recipe_links.append(f'https://www.bbcgoodfood.com/recipes{link[\"href\"]}')"
   ]
  },
  {
   "cell_type": "code",
   "execution_count": 35,
   "metadata": {},
   "outputs": [
    {
     "data": {
      "text/plain": [
       "['https://www.bbcgoodfood.com/recipes/recipes/chicken-chorizo-jambalaya',\n",
       " 'https://www.bbcgoodfood.com/recipes/recipes/lemon-drizzle-cake',\n",
       " 'https://www.bbcgoodfood.com/recipes/recipes/best-ever-chocolate-brownies-recipe',\n",
       " 'https://www.bbcgoodfood.com/recipes/recipes/chilli-con-carne-recipe',\n",
       " 'https://www.bbcgoodfood.com/recipes/recipes/creamy-courgette-lasagne',\n",
       " 'https://www.bbcgoodfood.com/recipes/recipes/naughty-chocolate-fudge-cake',\n",
       " 'https://www.bbcgoodfood.com/recipes/recipes/classic-victoria-sandwich-recipe',\n",
       " 'https://www.bbcgoodfood.com/recipes/recipes/chicken-noodle-soup',\n",
       " 'https://www.bbcgoodfood.com/recipes/recipes/satay-sweet-potato-curry',\n",
       " 'https://www.bbcgoodfood.com/recipes/recipes/chicken-pasta-bake',\n",
       " 'https://www.bbcgoodfood.com/recipes/recipes/brilliant-banana-loaf',\n",
       " 'https://www.bbcgoodfood.com/recipes/recipes/best-spaghetti-bolognese-recipe',\n",
       " 'https://www.bbcgoodfood.com/recipes/recipes/carrot-cake',\n",
       " 'https://www.bbcgoodfood.com/recipes/recipes/chorizo-mozzarella-gnocchi-bake',\n",
       " 'https://www.bbcgoodfood.com/recipes/recipes/classic-scones-jam-clotted-cream',\n",
       " 'https://www.bbcgoodfood.com/recipes/recipes/burnt-aubergine-veggie-chilli',\n",
       " 'https://www.bbcgoodfood.com/recipes/recipes/ultimate-chocolate-cake',\n",
       " 'https://www.bbcgoodfood.com/recipes/recipes/spinach-sweet-potato-lentil-dhal',\n",
       " 'https://www.bbcgoodfood.com/recipes/recipes/double-bean-roasted-pepper-chilli',\n",
       " 'https://www.bbcgoodfood.com/recipes/recipes/easiest-ever-paella',\n",
       " 'https://www.bbcgoodfood.com/recipes/recipes/chicken-arrabbiata-stew-parmesan-dumplings',\n",
       " 'https://www.bbcgoodfood.com/recipes/recipes/yummy-scrummy-carrot-cake-recipe',\n",
       " 'https://www.bbcgoodfood.com/recipes/recipes/chocolate-fudge-crinkle-biscuits',\n",
       " 'https://www.bbcgoodfood.com/recipes/recipes/mushroom-risotto',\n",
       " 'https://www.bbcgoodfood.com/recipes/recipes/vintage-chocolate-chip-cookies',\n",
       " 'https://www.bbcgoodfood.com/recipes/recipes/spiced-carrot-lentil-soup',\n",
       " 'https://www.bbcgoodfood.com/recipes/recipes/slow-cooker-beef-stew',\n",
       " 'https://www.bbcgoodfood.com/recipes/recipes/best-yorkshire-puddings',\n",
       " 'https://www.bbcgoodfood.com/recipes/recipes/chicken-satay-salad',\n",
       " 'https://www.bbcgoodfood.com/recipes/recipes/chinese-chicken-curry',\n",
       " 'https://www.bbcgoodfood.com/recipeshttps://www.buysubscriptions.com/print/bbc-good-food-magazine-subscription?promo=GFBS923&utm_medium=brandsite&utm_source=bbcgoodfood.com&utm_campaign=aug-twin_blade-GFBS923&utm_content=footer-widget&style=brand',\n",
       " 'https://www.bbcgoodfood.com/recipeshttps://immediate.onelink.me/OQap?af_web_dp=https%3A%2F%2Fwww.bbcgoodfood.com%2Fget-bbc-good-food-app&af_xp=custom&pid=website&c=footer_widget&is_retargeting=true',\n",
       " 'https://www.bbcgoodfood.com/recipeshttps://www.bbcgoodfood.com/howto/guide/good-food-wine-club']"
      ]
     },
     "execution_count": 35,
     "metadata": {},
     "output_type": "execute_result"
    }
   ],
   "source": [
    "recipe_links\n",
    "\n"
   ]
  },
  {
   "cell_type": "code",
   "execution_count": null,
   "metadata": {},
   "outputs": [],
   "source": []
  }
 ],
 "metadata": {
  "kernelspec": {
   "display_name": "replenish",
   "language": "python",
   "name": "python3"
  },
  "language_info": {
   "codemirror_mode": {
    "name": "ipython",
    "version": 3
   },
   "file_extension": ".py",
   "mimetype": "text/x-python",
   "name": "python",
   "nbconvert_exporter": "python",
   "pygments_lexer": "ipython3",
   "version": "3.10.6"
  },
  "orig_nbformat": 4
 },
 "nbformat": 4,
 "nbformat_minor": 2
}
