{
 "cells": [
  {
   "cell_type": "code",
   "execution_count": 37,
   "metadata": {},
   "outputs": [],
   "source": [
    "import requests\n",
    "from bs4 import BeautifulSoup\n",
    "import re\n",
    "%reload_ext autoreload\n",
    "import pandas as pd\n"
   ]
  },
  {
   "cell_type": "code",
   "execution_count": 14,
   "metadata": {},
   "outputs": [
    {
     "name": "stdout",
     "output_type": "stream",
     "text": [
      "['5', '15']\n"
     ]
    }
   ],
   "source": [
    "\n",
    "# What does our URL look like?\n",
    "url = \"https://www.bbcgoodfood.com/recipes/feta-peach-couscous\"\n",
    "# Get the response\n",
    "response = requests.get(url)\n",
    "# Turn it into Soup\n",
    "soup = BeautifulSoup(response.text, \"html.parser\")\n",
    "# Find the right tag\n",
    "\n",
    "prep_time = soup.find(\"div\", class_= \"icon-with-text__children\").find_all('time')\n",
    "times=[prep_time[0].text.strip(' mins'), prep_time[1].text.strip(' mins')]\n",
    "print(times)"
   ]
  },
  {
   "cell_type": "code",
   "execution_count": 15,
   "metadata": {},
   "outputs": [],
   "source": [
    "\n",
    "\n",
    "# URL of the search results page\n",
    "search_url = \"https://www.bbcgoodfood.com/search?q=\"\n",
    "\n",
    "# Send an HTTP GET request\n",
    "response = requests.get(search_url)\n",
    "soup = BeautifulSoup(response.content, \"html.parser\")\n",
    "\n",
    "# Extract recipe links\n",
    "recipe_links = []\n",
    "for link in soup.find_all(\"a\", class_=\"link d-block\"):\n",
    "    recipe_links.append(f'https://www.bbcgoodfood.com/recipes{link[\"href\"]}')"
   ]
  },
  {
   "cell_type": "code",
   "execution_count": 16,
   "metadata": {},
   "outputs": [
    {
     "data": {
      "text/plain": [
       "['https://www.bbcgoodfood.com/recipes/recipes/lemon-drizzle-cake',\n",
       " 'https://www.bbcgoodfood.com/recipes/recipes/chicken-chorizo-jambalaya',\n",
       " 'https://www.bbcgoodfood.com/recipes/recipes/best-ever-chocolate-brownies-recipe',\n",
       " 'https://www.bbcgoodfood.com/recipes/recipes/creamy-courgette-lasagne',\n",
       " 'https://www.bbcgoodfood.com/recipes/recipes/chilli-con-carne-recipe',\n",
       " 'https://www.bbcgoodfood.com/recipes/recipes/naughty-chocolate-fudge-cake',\n",
       " 'https://www.bbcgoodfood.com/recipes/recipes/classic-victoria-sandwich-recipe',\n",
       " 'https://www.bbcgoodfood.com/recipes/recipes/chicken-noodle-soup',\n",
       " 'https://www.bbcgoodfood.com/recipes/recipes/satay-sweet-potato-curry',\n",
       " 'https://www.bbcgoodfood.com/recipes/recipes/chicken-pasta-bake',\n",
       " 'https://www.bbcgoodfood.com/recipes/recipes/best-spaghetti-bolognese-recipe',\n",
       " 'https://www.bbcgoodfood.com/recipes/recipes/brilliant-banana-loaf',\n",
       " 'https://www.bbcgoodfood.com/recipes/recipes/chorizo-mozzarella-gnocchi-bake',\n",
       " 'https://www.bbcgoodfood.com/recipes/recipes/carrot-cake',\n",
       " 'https://www.bbcgoodfood.com/recipes/recipes/classic-scones-jam-clotted-cream',\n",
       " 'https://www.bbcgoodfood.com/recipes/recipes/burnt-aubergine-veggie-chilli',\n",
       " 'https://www.bbcgoodfood.com/recipes/recipes/ultimate-chocolate-cake',\n",
       " 'https://www.bbcgoodfood.com/recipes/recipes/spinach-sweet-potato-lentil-dhal',\n",
       " 'https://www.bbcgoodfood.com/recipes/recipes/double-bean-roasted-pepper-chilli',\n",
       " 'https://www.bbcgoodfood.com/recipes/recipes/easiest-ever-paella',\n",
       " 'https://www.bbcgoodfood.com/recipes/recipes/chicken-arrabbiata-stew-parmesan-dumplings',\n",
       " 'https://www.bbcgoodfood.com/recipes/recipes/mushroom-risotto',\n",
       " 'https://www.bbcgoodfood.com/recipes/recipes/yummy-scrummy-carrot-cake-recipe',\n",
       " 'https://www.bbcgoodfood.com/recipes/recipes/chocolate-fudge-crinkle-biscuits',\n",
       " 'https://www.bbcgoodfood.com/recipes/recipes/vintage-chocolate-chip-cookies',\n",
       " 'https://www.bbcgoodfood.com/recipes/recipes/spiced-carrot-lentil-soup',\n",
       " 'https://www.bbcgoodfood.com/recipes/recipes/slow-cooker-beef-stew',\n",
       " 'https://www.bbcgoodfood.com/recipes/recipes/best-yorkshire-puddings',\n",
       " 'https://www.bbcgoodfood.com/recipes/recipes/chicken-satay-salad',\n",
       " 'https://www.bbcgoodfood.com/recipes/recipes/classic-cheese-scones',\n",
       " 'https://www.bbcgoodfood.com/recipeshttps://www.buysubscriptions.com/print/bbc-good-food-magazine-subscription?promo=GFBS923&utm_medium=brandsite&utm_source=bbcgoodfood.com&utm_campaign=aug-twin_blade-GFBS923&utm_content=footer-widget&style=brand',\n",
       " 'https://www.bbcgoodfood.com/recipeshttps://immediate.onelink.me/OQap?af_web_dp=https%3A%2F%2Fwww.bbcgoodfood.com%2Fget-bbc-good-food-app&af_xp=custom&pid=website&c=footer_widget&is_retargeting=true',\n",
       " 'https://www.bbcgoodfood.com/recipeshttps://www.bbcgoodfood.com/howto/guide/good-food-wine-club']"
      ]
     },
     "execution_count": 16,
     "metadata": {},
     "output_type": "execute_result"
    }
   ],
   "source": [
    "recipe_links\n",
    "\n"
   ]
  },
  {
   "cell_type": "code",
   "execution_count": 17,
   "metadata": {},
   "outputs": [],
   "source": [
    "cuisines = ['italian','indian','asian']\n",
    "dietary= ['vegetarian','vegan', 'gluten-free','nut-free']\n",
    "\n",
    "base_url= 'https://www.bbcgoodfood.com/search?tab=recipe'\n",
    "\n",
    "def preference_based_search(preference=None):\n",
    "    if preference in cuisines:\n",
    "        url= f'{base_url}&cuisines={preference}'\n",
    "    elif preference in dietary:\n",
    "        url= f'{base_url}&diet={preference}'\n",
    "    else:\n",
    "        url=base_url\n",
    "    return url"
   ]
  },
  {
   "cell_type": "code",
   "execution_count": 7,
   "metadata": {},
   "outputs": [
    {
     "name": "stdout",
     "output_type": "stream",
     "text": [
      "https://www.bbcgoodfood.com/search?tab=recipe&cuisines=italian\n"
     ]
    }
   ],
   "source": [
    "print(preference_based_search('italian'))"
   ]
  },
  {
   "cell_type": "code",
   "execution_count": 21,
   "metadata": {},
   "outputs": [],
   "source": [
    "def category_specific_links(preference):\n",
    "    search_url = preference_based_search(preference)\n",
    "    response = requests.get(search_url)\n",
    "    soup = BeautifulSoup(response.content, \"html.parser\")\n",
    "    recipe_links = []\n",
    "    for link in soup.find_all(\"a\", class_=\"link d-block\"):\n",
    "        recipe_links.append(f'https://www.bbcgoodfood.com/recipes{link[\"href\"]}')\n",
    "    return recipe_links"
   ]
  },
  {
   "cell_type": "code",
   "execution_count": 9,
   "metadata": {},
   "outputs": [],
   "source": [
    "import pandas as pd\n",
    "\n",
    "list1 = [1,2,3,4,5]\n",
    "list2 = [4,5,6,7,8]\n",
    "dat={'d':list1, 'f':list2}\n",
    "\n",
    "df1= pd.DataFrame(dat)\n",
    "\n",
    "list3 = [3,42,53,4,5]\n",
    "list4 = [4,55,66,7,8]\n",
    "datr={'d':list3, 'f':list4}\n",
    "\n"
   ]
  },
  {
   "cell_type": "code",
   "execution_count": 18,
   "metadata": {},
   "outputs": [],
   "source": [
    "# %reload_ext autoreload\n",
    "from replenish.get_data.bbc_scrape import load_data\n",
    "\n"
   ]
  },
  {
   "cell_type": "code",
   "execution_count": 20,
   "metadata": {},
   "outputs": [],
   "source": [
    "df = load_data()\n",
    "df"
   ]
  },
  {
   "cell_type": "code",
   "execution_count": 26,
   "metadata": {},
   "outputs": [
    {
     "data": {
      "text/plain": [
       "['https://www.bbcgoodfood.com/recipes/recipes/lemon-drizzle-cake',\n",
       " 'https://www.bbcgoodfood.com/recipes/recipes/chicken-chorizo-jambalaya',\n",
       " 'https://www.bbcgoodfood.com/recipes/recipes/best-ever-chocolate-brownies-recipe',\n",
       " 'https://www.bbcgoodfood.com/recipes/recipes/creamy-courgette-lasagne',\n",
       " 'https://www.bbcgoodfood.com/recipes/recipes/chilli-con-carne-recipe',\n",
       " 'https://www.bbcgoodfood.com/recipes/recipes/naughty-chocolate-fudge-cake',\n",
       " 'https://www.bbcgoodfood.com/recipes/recipes/classic-victoria-sandwich-recipe',\n",
       " 'https://www.bbcgoodfood.com/recipes/recipes/chicken-noodle-soup',\n",
       " 'https://www.bbcgoodfood.com/recipes/recipes/satay-sweet-potato-curry',\n",
       " 'https://www.bbcgoodfood.com/recipes/recipes/chicken-pasta-bake',\n",
       " 'https://www.bbcgoodfood.com/recipes/recipes/best-spaghetti-bolognese-recipe',\n",
       " 'https://www.bbcgoodfood.com/recipes/recipes/brilliant-banana-loaf',\n",
       " 'https://www.bbcgoodfood.com/recipes/recipes/chorizo-mozzarella-gnocchi-bake',\n",
       " 'https://www.bbcgoodfood.com/recipes/recipes/carrot-cake',\n",
       " 'https://www.bbcgoodfood.com/recipes/recipes/classic-scones-jam-clotted-cream',\n",
       " 'https://www.bbcgoodfood.com/recipes/recipes/burnt-aubergine-veggie-chilli',\n",
       " 'https://www.bbcgoodfood.com/recipes/recipes/ultimate-chocolate-cake',\n",
       " 'https://www.bbcgoodfood.com/recipes/recipes/spinach-sweet-potato-lentil-dhal',\n",
       " 'https://www.bbcgoodfood.com/recipes/recipes/double-bean-roasted-pepper-chilli',\n",
       " 'https://www.bbcgoodfood.com/recipes/recipes/easiest-ever-paella',\n",
       " 'https://www.bbcgoodfood.com/recipes/recipes/chicken-arrabbiata-stew-parmesan-dumplings',\n",
       " 'https://www.bbcgoodfood.com/recipes/recipes/mushroom-risotto',\n",
       " 'https://www.bbcgoodfood.com/recipes/recipes/yummy-scrummy-carrot-cake-recipe',\n",
       " 'https://www.bbcgoodfood.com/recipes/recipes/chocolate-fudge-crinkle-biscuits',\n",
       " 'https://www.bbcgoodfood.com/recipes/recipes/vintage-chocolate-chip-cookies',\n",
       " 'https://www.bbcgoodfood.com/recipes/recipes/spiced-carrot-lentil-soup',\n",
       " 'https://www.bbcgoodfood.com/recipes/recipes/slow-cooker-beef-stew',\n",
       " 'https://www.bbcgoodfood.com/recipes/recipes/best-yorkshire-puddings',\n",
       " 'https://www.bbcgoodfood.com/recipes/recipes/chicken-satay-salad',\n",
       " 'https://www.bbcgoodfood.com/recipes/recipes/classic-cheese-scones',\n",
       " 'https://www.bbcgoodfood.com/recipeshttps://www.buysubscriptions.com/print/bbc-good-food-magazine-subscription?promo=GFBS923&utm_medium=brandsite&utm_source=bbcgoodfood.com&utm_campaign=aug-twin_blade-GFBS923&utm_content=footer-widget&style=brand',\n",
       " 'https://www.bbcgoodfood.com/recipeshttps://immediate.onelink.me/OQap?af_web_dp=https%3A%2F%2Fwww.bbcgoodfood.com%2Fget-bbc-good-food-app&af_xp=custom&pid=website&c=footer_widget&is_retargeting=true',\n",
       " 'https://www.bbcgoodfood.com/recipeshttps://www.bbcgoodfood.com/howto/guide/good-food-wine-club']"
      ]
     },
     "execution_count": 26,
     "metadata": {},
     "output_type": "execute_result"
    }
   ],
   "source": [
    "category_specific_links('italian')"
   ]
  },
  {
   "cell_type": "code",
   "execution_count": 39,
   "metadata": {},
   "outputs": [],
   "source": [
    "def category_bbc_data(preference):\n",
    "    '''Return a dataframe of recipe information for each recipe\n",
    "    given a specific category'''\n",
    "\n",
    "    individual_recipes = category_specific_links(preference)\n",
    "\n",
    "    #list for each item retrieved\n",
    "    recipe_title=[]\n",
    "    prep_times =[]\n",
    "    cooking_times=[]\n",
    "    stars=[]\n",
    "    review_count=[]\n",
    "    difficulty_level=[]\n",
    "    servings=[]\n",
    "    description=[]\n",
    "    recipe_ingredients=[]\n",
    "\n",
    "    #here the individual recipe links are pulled and iterated\n",
    "    for recipe in individual_recipes:\n",
    "        #time.sleep(1)\n",
    "        response = requests.get(recipe)\n",
    "        soup = BeautifulSoup(response.content, \"html.parser\")\n",
    "\n",
    "        #recipe title\n",
    "        try:\n",
    "            title = soup.find(\"div\", class_= \"headline post-header__title post-header__title--masthead-layout\").find(\n",
    "            \"h1\",class_='heading-1').string\n",
    "            recipe_title.append(title)\n",
    "        except:\n",
    "            recipe_title.append('n')\n",
    "\n",
    "        #prep and cooking times\n",
    "        try:\n",
    "            times = soup.find(\"div\", class_= \"icon-with-text__children\").find_all('time')\n",
    "            prep_times.append(times[0].text.strip(' mins'))\n",
    "            cooking_times.append(times[1].text.strip(' mins'))\n",
    "        except:\n",
    "            prep_times.append('n')\n",
    "            cooking_times.append('n')\n",
    "\n",
    "        try:\n",
    "        #star ratings\n",
    "            star_rating = soup.find(\"div\", class_= \"rating__values\").find(\"span\",class_='sr-only').string\n",
    "            star_rating_float = float(star_rating.strip('A star rating of ').strip(' out of 5.'))\n",
    "            stars.append(star_rating_float)\n",
    "        except:\n",
    "            stars.append('n')\n",
    "\n",
    "        try:\n",
    "        #review count\n",
    "            num_reviews = soup.find(\"div\", class_= \"rating__values\").find(\"span\",class_='rating__count-text body-copy-small').string\n",
    "            num_reviews_float = float(num_reviews.strip(' ratings'))\n",
    "            review_count.append(num_reviews_float)\n",
    "        except:\n",
    "            review_count.append('n')\n",
    "\n",
    "        #servings\n",
    "        #if soup.find(\"div\", class_= \"icon-with-text post-header__servings body-copy-small body-copy-bold icon-with-text--aligned\") not None:\n",
    "        try:\n",
    "            serving = soup.find(\"div\", class_= \"icon-with-text post-header__servings body-copy-small body-copy-bold icon-with-text--aligned\").find(\"div\", class_= \"icon-with-text__children\").string\n",
    "        #servings_int = int(serving.strip('Serves '))\n",
    "            servings.append(serving)\n",
    "        except:\n",
    "            servings.append(\"None\")\n",
    "\n",
    "        try:\n",
    "        #description\n",
    "            tagline = soup.find(\"div\", class_= \"editor-content mt-sm pr-xxs hidden-print\").find(\"p\").string\n",
    "            description.append(tagline)\n",
    "        except:\n",
    "            description.append('n')\n",
    "\n",
    "        try:\n",
    "\n",
    "            #difficulty level\n",
    "            difficulty = soup.find(\"div\", class_= \"icon-with-text post-header__skill-level body-copy-small body-copy-bold icon-with-text--aligned\").find(\"div\", class_= \"icon-with-text__children\").string\n",
    "            difficulty_level.append(difficulty)\n",
    "        except:\n",
    "            difficulty_level.append('n')\n",
    "\n",
    "\n",
    "        try:\n",
    "    \n",
    "            #ingredients\n",
    "            for ingredient_group in soup.find_all('section', class_='recipe__ingredients col-12 mt-md col-lg-6'):\n",
    "                ingredients = ingredient_group.find_all('li')\n",
    "                ingredient_text = ''\n",
    "            for ingredient in ingredients:\n",
    "                ingredient_text += ingredient.get_text() + ', '\n",
    "            recipe_ingredients.append(ingredient_text)\n",
    "        except:\n",
    "            recipe_ingredients.append('n')\n",
    "\n",
    "        #Creating a Dictionary\n",
    "    category_dictionary= {\n",
    "        'recipe_title':recipe_title,\n",
    "        'stars':stars,\n",
    "        'prep_times':prep_times,\n",
    "        'cooking_times': cooking_times,\n",
    "        'review_count':review_count,\n",
    "        'difficulty_level':difficulty_level,\n",
    "        'servings':servings,\n",
    "        'description':description,\n",
    "        'ingredients':recipe_ingredients\n",
    "    }\n",
    "\n",
    "    #Dictionary to dataframe\n",
    "    df = pd.DataFrame.from_dict(category_dictionary)\n",
    "\n",
    "    return df"
   ]
  },
  {
   "cell_type": "code",
   "execution_count": null,
   "metadata": {},
   "outputs": [],
   "source": [
    "def page_parser():\n",
    "    base_url = preference_based_search(preferenc):\n",
    "    '''Return a url for a BBC GoodFood search that\n",
    "    is specific to the input category/preference.'''\n",
    "    if preference in cuisines:\n",
    "        url= f'{base_url}&cuisines={preference}'\n",
    "    elif preference in dietary:\n",
    "        url= f'{base_url}&diet={preference}'\n",
    "    else:\n",
    "        url=base_url\n",
    "    return url\n",
    "    "
   ]
  },
  {
   "cell_type": "code",
   "execution_count": 36,
   "metadata": {},
   "outputs": [],
   "source": [
    "def load_data():\n",
    "    column_names = ['recipe_title','stars','prep_times','cooking_times', 'review_count',\n",
    "                     'difficulty_level','servings','description', 'ingredients', 'preference']\n",
    "    final_df = pd.DataFrame(columns=column_names)\n",
    "\n",
    "    for cuisine in cuisines:\n",
    "        df = category_bbc_data(cuisine)\n",
    "        df['preference']=cuisine\n",
    "        final_df = pd.concat([final_df,df])\n",
    "\n",
    "        #big_df = pd.merge(main_df,df, how='outer')\n",
    "        #all_df.append(big_df)\n",
    "        #final_df1[cuisine] =\n",
    "    for diet in dietary:\n",
    "        df = category_bbc_data(diet)\n",
    "        df['preference']=diet\n",
    "        final_df = pd.concat([final_df,df])\n",
    "\n",
    "\n",
    "    return final_df"
   ]
  },
  {
   "cell_type": "code",
   "execution_count": null,
   "metadata": {},
   "outputs": [],
   "source": []
  }
 ],
 "metadata": {
  "kernelspec": {
   "display_name": "Python 3 (ipykernel)",
   "language": "python",
   "name": "python3"
  },
  "language_info": {
   "codemirror_mode": {
    "name": "ipython",
    "version": 3
   },
   "file_extension": ".py",
   "mimetype": "text/x-python",
   "name": "python",
   "nbconvert_exporter": "python",
   "pygments_lexer": "ipython3",
   "version": "3.10.6"
  }
 },
 "nbformat": 4,
 "nbformat_minor": 4
}
